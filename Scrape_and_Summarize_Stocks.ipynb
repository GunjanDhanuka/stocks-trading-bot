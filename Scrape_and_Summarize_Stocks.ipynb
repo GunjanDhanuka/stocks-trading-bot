{
  "cells": [
    {
      "cell_type": "markdown",
      "metadata": {
        "id": "inTHWq72h-ED"
      },
      "source": [
        "## Install dependencies"
      ]
    },
    {
      "cell_type": "code",
      "execution_count": 1,
      "metadata": {
        "colab": {
          "base_uri": "https://localhost:8080/"
        },
        "id": "3QQ_0sV3iEMF",
        "outputId": "93264d94-46e1-45ba-c18d-b33b4ea81a17"
      },
      "outputs": [
        {
          "name": "stdout",
          "output_type": "stream",
          "text": [
            "Requirement already satisfied: transformers in /home/gunjan/anaconda3/envs/pytorch/lib/python3.10/site-packages (4.20.1)\n",
            "Requirement already satisfied: pyyaml>=5.1 in /home/gunjan/anaconda3/envs/pytorch/lib/python3.10/site-packages (from transformers) (6.0)\n",
            "Requirement already satisfied: requests in /home/gunjan/anaconda3/envs/pytorch/lib/python3.10/site-packages (from transformers) (2.27.1)\n",
            "Requirement already satisfied: filelock in /home/gunjan/anaconda3/envs/pytorch/lib/python3.10/site-packages (from transformers) (3.7.1)\n",
            "Requirement already satisfied: regex!=2019.12.17 in /home/gunjan/anaconda3/envs/pytorch/lib/python3.10/site-packages (from transformers) (2022.6.2)\n",
            "Requirement already satisfied: tokenizers!=0.11.3,<0.13,>=0.11.1 in /home/gunjan/anaconda3/envs/pytorch/lib/python3.10/site-packages (from transformers) (0.12.1)\n",
            "Requirement already satisfied: huggingface-hub<1.0,>=0.1.0 in /home/gunjan/anaconda3/envs/pytorch/lib/python3.10/site-packages (from transformers) (0.8.1)\n",
            "Requirement already satisfied: tqdm>=4.27 in /home/gunjan/anaconda3/envs/pytorch/lib/python3.10/site-packages (from transformers) (4.64.0)\n",
            "Requirement already satisfied: numpy>=1.17 in /home/gunjan/anaconda3/envs/pytorch/lib/python3.10/site-packages (from transformers) (1.22.3)\n",
            "Requirement already satisfied: packaging>=20.0 in /home/gunjan/anaconda3/envs/pytorch/lib/python3.10/site-packages (from transformers) (21.3)\n",
            "Requirement already satisfied: typing-extensions>=3.7.4.3 in /home/gunjan/anaconda3/envs/pytorch/lib/python3.10/site-packages (from huggingface-hub<1.0,>=0.1.0->transformers) (4.1.1)\n",
            "Requirement already satisfied: pyparsing!=3.0.5,>=2.0.2 in /home/gunjan/anaconda3/envs/pytorch/lib/python3.10/site-packages (from packaging>=20.0->transformers) (3.0.7)\n",
            "Requirement already satisfied: charset-normalizer~=2.0.0 in /home/gunjan/anaconda3/envs/pytorch/lib/python3.10/site-packages (from requests->transformers) (2.0.12)\n",
            "Requirement already satisfied: urllib3<1.27,>=1.21.1 in /home/gunjan/anaconda3/envs/pytorch/lib/python3.10/site-packages (from requests->transformers) (1.26.9)\n",
            "Requirement already satisfied: idna<4,>=2.5 in /home/gunjan/anaconda3/envs/pytorch/lib/python3.10/site-packages (from requests->transformers) (3.3)\n",
            "Requirement already satisfied: certifi>=2017.4.17 in /home/gunjan/anaconda3/envs/pytorch/lib/python3.10/site-packages (from requests->transformers) (2022.5.18.1)\n"
          ]
        }
      ],
      "source": [
        "!pip install transformers"
      ]
    },
    {
      "cell_type": "code",
      "execution_count": 2,
      "metadata": {
        "colab": {
          "base_uri": "https://localhost:8080/"
        },
        "id": "NFQSnM0qkm0d",
        "outputId": "d163964a-5d6b-4327-eefe-6481921ee773"
      },
      "outputs": [
        {
          "name": "stdout",
          "output_type": "stream",
          "text": [
            "Requirement already satisfied: sentencepiece in /home/gunjan/anaconda3/envs/pytorch/lib/python3.10/site-packages (0.1.96)\n"
          ]
        }
      ],
      "source": [
        "! pip install sentencepiece"
      ]
    },
    {
      "cell_type": "code",
      "execution_count": 3,
      "metadata": {
        "id": "KGnqZDVlii_F"
      },
      "outputs": [],
      "source": [
        "from transformers import PegasusTokenizer, PegasusForConditionalGeneration\n",
        "from bs4 import BeautifulSoup\n",
        "import requests"
      ]
    },
    {
      "cell_type": "code",
      "execution_count": 4,
      "metadata": {
        "colab": {
          "base_uri": "https://localhost:8080/",
          "height": 317,
          "referenced_widgets": [
            "054dcb96e5eb4e63b8900a8986d91aef",
            "2abc931b66b94471998c74352a0450c9",
            "601cb68a81c04623aba241d912ab34cf",
            "78819370d0d741abad289ceebd26d7ad",
            "9b625e5deab9443ca4794120699e8cc4",
            "f52f378157ad46b9a41c18b3cb54d3c5",
            "8283b8a519db4edea932d7e47bd2df05",
            "c27b7b3612e24d7e905889e46bddf4ef",
            "8611b8794dc24a5a9ae558a460b8f82e",
            "faaa7ffa8e3047c4863f3d3e891a3c46",
            "cbca974e849b4fa8b329cc2fb1c17706",
            "acdd068a23d349e6afbff673a745d772",
            "d00fe18c83794242b57254a80fd721fd",
            "e6e8d14202014e77a0ba9c1159c719d0",
            "207bc93fd7924658aa530e88f0080e6c",
            "76151c04fd9a466384c4d44f871f4ce9",
            "ca27f92562804ea4ad9b051ec69cf633",
            "c10077474af541a1bd35bd4c0bcc146b",
            "40ebd203208c437f91d0b708a0611cf8",
            "5231c6ef95d340f6b71b363f43a6b361",
            "ada3e77a47c346c1869abbdb3e184111",
            "46d146e98a6347eb8073e25671f9c2c9",
            "9baa8501f2d8404694d4f44971b959fa",
            "e2d87dadc96d4253984abb841bab8657",
            "053b2eb47dd0493d8b699e4aff1885a4",
            "a1215701e0de4333a3e9de31533fd32c",
            "d05648606ed3467399bf886177ae2f92",
            "8d597c14d47242f2aec311fcabac88e6",
            "afb470380e3a48a3a285a6681d8a27cd",
            "ae4e2e36ae2146f2b675140e67144fa7",
            "4fed993cc1c8422b860fa89f3f2223bf",
            "8a914245567446fdb7bafa8bfbacf88e",
            "f1e228a5e9064075ad22ec005c4404a6",
            "ca5fa3ea4da64ca3939f7eca21c9baab",
            "9d5ccc92e5f544abb14785ae26d73353",
            "5e15f6595c9147c9b669e82413c48b4f",
            "f7895ac953bb4efca43f8c53019e074f",
            "0c52bce9da904a08aac43b2bc1adb2d0",
            "497c50c95d8448f3b75d24fc574d4eb3",
            "3e659217babc4dc38380a364e75009c5",
            "9056d6caab734df4834973bac7fc29f2",
            "38d474d4054645d491958bd0acdc8b78",
            "d93560ca4dc74255a4e9f71a0cf31735",
            "a4c01912423a478faf3b7805b3e3c394",
            "28cb05b724d84a7e8b057d59db3e6c4a",
            "91527d4e91cc487381f2a9f845b4f580",
            "83bfde70c8f648bb81862ac5061b5550",
            "0998c4aa0d104eb4a955ff75dd20003d",
            "cbd23bb3747b40d1980ef8340591cc8d",
            "514bea5923054cbf909cce6275481777",
            "84aff6318b8b44369f0ebe21863a8707",
            "71c11c7c31cb4ce4b478254a0987c437",
            "df69b9d78d2d4f8c858ceface8b7dfa0",
            "b904089c40d3440086f3ea32c55d9c61",
            "79d603afd21741b8b32b08b9cdcb9ce0"
          ]
        },
        "id": "oXSZinAgiwVx",
        "outputId": "d56e2b5f-b1c5-4653-d36d-dd36ab56c756"
      },
      "outputs": [
        {
          "data": {
            "application/vnd.jupyter.widget-view+json": {
              "model_id": "67f42cda8b41497d82079158ba5c1a9b",
              "version_major": 2,
              "version_minor": 0
            },
            "text/plain": [
              "Downloading:   0%|          | 0.00/2.12G [00:00<?, ?B/s]"
            ]
          },
          "metadata": {},
          "output_type": "display_data"
        }
      ],
      "source": [
        "model_name = \"human-centered-summarization/financial-summarization-pegasus\"\n",
        "tokenizer = PegasusTokenizer.from_pretrained(model_name)\n",
        "model = PegasusForConditionalGeneration.from_pretrained(model_name)"
      ]
    },
    {
      "cell_type": "code",
      "execution_count": 5,
      "metadata": {
        "id": "qkWsZbTkkeN1"
      },
      "outputs": [],
      "source": [
        "url = 'https://finance.yahoo.com/news/tesla-evs-can-now-scan-the-road-for-potholes-and-adjust-the-suspension-height-113844466.html'\n",
        "r = requests.get(url)\n",
        "soup = BeautifulSoup(r.text, 'html.parser')\n",
        "paragraphs = soup.find_all('p')"
      ]
    },
    {
      "cell_type": "code",
      "execution_count": 6,
      "metadata": {
        "id": "fEPkiavUm4SV"
      },
      "outputs": [],
      "source": [
        "text = [paragraph.text for paragraph in paragraphs]\n",
        "words = \" \".join(text).split(' ')[:400]\n",
        "ARTICLE = \" \".join(words)"
      ]
    },
    {
      "cell_type": "code",
      "execution_count": 7,
      "metadata": {
        "colab": {
          "base_uri": "https://localhost:8080/",
          "height": 272
        },
        "id": "CN5If8eXoIHx",
        "outputId": "c9a411d0-e680-4445-c5b6-3248c37bbaf9"
      },
      "outputs": [
        {
          "data": {
            "text/plain": [
              "'Tesla has introduced a software update that allows its vehicles to scan for potholes, broken pavement and other defects, Electrek has reported. It can then use that to generate \"rough road map data,\" and trigger the adaptive suspension in supported vehicles to adjust the ride height for more comfort. Back in 2020, Musk tweeted that such a feature was coming, and this appears to be the first step. \"This adjustment may occur at various locations, subject to availability, as the vehicle downloads rough road map data generated by Tesla cars,\" the release notes state. That means pothole and other data should become increasingly refined as Tesla vehicles ply the roads. The ride adjustment will only work in Tesla Model S and Model X cars with adaptive suspensions, Elektrek notes. It\\'s not clear if the Model 3 or Y vehicles also scan for rough roads, even if they lack the adaptive suspension to benefit from the data. Both the Model 3 and the Model S have eight cameras in total. To enable the feature you\\'ll need the latest update 2022.20, then you tap \"Controls > Suspension > Adaptive Suspension Damping, and select the Comfort or Auto setting,\" Tesla notes, adding that \"the instrument cluster will continue to indicate when the suspension is raised for comfort.\" Tesla isn\\'t the first automaker to think up pothole scanning technology. Some manufacturers like Ford have proposed features that even detect individual potholes and instantly damp the suspension, for example. Tesla\\'s system could be far more practical, though, by simply softening the ride parameters over known patches of rough road. HBO Max has confirmed that it will no longer produce originals in Denmark, Sweden, Norway, Finland, Central Europe, the Netherlands and Turkey. Three women and four men, including a minor, were shot at their home in the eastern state of Veracruz, officials said. Tesla\\'s new factory near Berlin will reportedly have to be shutdown for two weeks as the company undertakes improvements that should boost output. Customers who reserved a Cybertruck, Rivian, Ford F-150 Lightning or Chevy Silverado EV are making sure they get the first one to come along. The music of Crosby, Stills and Nash is once again available to stream on Spotify. The company is opening several micromobliity hubs across the UK to replace many van trips. Visitations and funeral services for the officers are expected to take place in the coming days.'"
            ]
          },
          "execution_count": 7,
          "metadata": {},
          "output_type": "execute_result"
        }
      ],
      "source": [
        "ARTICLE"
      ]
    },
    {
      "cell_type": "code",
      "execution_count": 8,
      "metadata": {
        "id": "opSIdcrwogXF"
      },
      "outputs": [],
      "source": [
        "input_ids = tokenizer.encode(ARTICLE,return_tensors='pt')\n",
        "output = model.generate(input_ids, max_length=100, num_beams = 5, early_stopping=True)\n",
        "summary = tokenizer.decode(output[0], skip_special_tokens=True)"
      ]
    },
    {
      "cell_type": "code",
      "execution_count": 9,
      "metadata": {
        "colab": {
          "base_uri": "https://localhost:8080/",
          "height": 36
        },
        "id": "yuQrJMjrozCr",
        "outputId": "24193199-bb7d-445f-cf46-106f04576458"
      },
      "outputs": [
        {
          "data": {
            "text/plain": [
              "'Autonomous driving features were promised in 2020.'"
            ]
          },
          "execution_count": 9,
          "metadata": {},
          "output_type": "execute_result"
        }
      ],
      "source": [
        "summary"
      ]
    },
    {
      "cell_type": "markdown",
      "metadata": {
        "id": "NbXDRUygqRU-"
      },
      "source": [
        "## Building Pipeline"
      ]
    },
    {
      "cell_type": "code",
      "execution_count": 10,
      "metadata": {
        "id": "xUJjyMN9o1L_"
      },
      "outputs": [],
      "source": [
        "monitored_tickers = ['GME', 'TSLA', 'BTC']"
      ]
    },
    {
      "cell_type": "code",
      "execution_count": 11,
      "metadata": {
        "id": "fvsOIgZ0qYx-"
      },
      "outputs": [],
      "source": [
        "def search_for_news_url(ticker):\n",
        "  search_url = \"https://www.google.com/search?q=yahoo+finance+{}&tbm=nws\".format(ticker)\n",
        "  r = requests.get(search_url)\n",
        "  soup = BeautifulSoup(r.text, 'html.parser')\n",
        "  a_tags = soup.find_all('a')\n",
        "  hrefs = [link['href'] for link in a_tags]\n",
        "  return hrefs"
      ]
    },
    {
      "cell_type": "code",
      "execution_count": 12,
      "metadata": {
        "colab": {
          "base_uri": "https://localhost:8080/"
        },
        "id": "zGbm9wWkwEFd",
        "outputId": "99847d64-d5ac-4391-e500-f284ba31cf17"
      },
      "outputs": [
        {
          "data": {
            "text/plain": [
              "[<a href=\"/?sa=X&amp;ved=0ahUKEwju7daD5OT4AhVmm9gFHesQCeAQOwgC\"><span class=\"V6gwVd\">G</span><span class=\"iWkuvd\">o</span><span class=\"cDrQ7\">o</span><span class=\"V6gwVd\">g</span><span class=\"ntlR9\">l</span><span class=\"iWkuvd tJ3Myc\">e</span></a>,\n",
              " <a href=\"/search?q=yahoo+finance+TSLA&amp;tbm=nws&amp;ie=UTF-8&amp;gbv=1&amp;sei=ecXFYq7NEOa24t4P66GkgA4\">here</a>,\n",
              " <a class=\"eZt8xd\" href=\"/search?q=yahoo+finance+TSLA&amp;ie=UTF-8&amp;source=lnms&amp;sa=X&amp;ved=0ahUKEwju7daD5OT4AhVmm9gFHesQCeAQ_AUIBSgA\">All</a>,\n",
              " <a class=\"eZt8xd\" href=\"/search?q=yahoo+finance+TSLA&amp;ie=UTF-8&amp;tbm=bks&amp;source=lnms&amp;sa=X&amp;ved=0ahUKEwju7daD5OT4AhVmm9gFHesQCeAQ_AUIBygC\">Books</a>,\n",
              " <a class=\"eZt8xd\" href=\"/search?q=yahoo+finance+TSLA&amp;ie=UTF-8&amp;tbm=shop&amp;source=lnms&amp;sa=X&amp;ved=0ahUKEwju7daD5OT4AhVmm9gFHesQCeAQ_AUICCgD\">Shopping</a>,\n",
              " <a href=\"/search?q=yahoo+finance+TSLA&amp;ie=UTF-8&amp;tbm=isch&amp;source=lnms&amp;sa=X&amp;ved=0ahUKEwju7daD5OT4AhVmm9gFHesQCeAQ_AUICSgE\">Images</a>,\n",
              " <a href=\"https://maps.google.com/maps?q=yahoo+finance+TSLA&amp;um=1&amp;ie=UTF-8&amp;sa=X&amp;ved=0ahUKEwju7daD5OT4AhVmm9gFHesQCeAQ_AUICigF\">Maps</a>,\n",
              " <a href=\"/search?q=yahoo+finance+TSLA&amp;ie=UTF-8&amp;tbm=vid&amp;source=lnms&amp;sa=X&amp;ved=0ahUKEwju7daD5OT4AhVmm9gFHesQCeAQ_AUICygG\">Videos</a>,\n",
              " <a href=\"/advanced_search\" id=\"st-toggle\" role=\"button\" style=\"white-space:nowrap\">Search tools</a>,\n",
              " <a href=\"/search?q=yahoo+finance+TSLA&amp;ie=UTF-8&amp;tbm=nws&amp;source=lnt&amp;tbs=qdr:h&amp;sa=X&amp;ved=0ahUKEwju7daD5OT4AhVmm9gFHesQCeAQpwUIDQ\">Past hour</a>,\n",
              " <a href=\"/search?q=yahoo+finance+TSLA&amp;ie=UTF-8&amp;tbm=nws&amp;source=lnt&amp;tbs=qdr:d&amp;sa=X&amp;ved=0ahUKEwju7daD5OT4AhVmm9gFHesQCeAQpwUIDg\">Past 24 hours</a>,\n",
              " <a href=\"/search?q=yahoo+finance+TSLA&amp;ie=UTF-8&amp;tbm=nws&amp;source=lnt&amp;tbs=qdr:w&amp;sa=X&amp;ved=0ahUKEwju7daD5OT4AhVmm9gFHesQCeAQpwUIDw\">Past week</a>,\n",
              " <a href=\"/search?q=yahoo+finance+TSLA&amp;ie=UTF-8&amp;tbm=nws&amp;source=lnt&amp;tbs=qdr:m&amp;sa=X&amp;ved=0ahUKEwju7daD5OT4AhVmm9gFHesQCeAQpwUIEA\">Past month</a>,\n",
              " <a href=\"/search?q=yahoo+finance+TSLA&amp;ie=UTF-8&amp;tbm=nws&amp;source=lnt&amp;tbs=qdr:y&amp;sa=X&amp;ved=0ahUKEwju7daD5OT4AhVmm9gFHesQCeAQpwUIEQ\">Past year</a>,\n",
              " <a href=\"/search?q=yahoo+finance+TSLA&amp;ie=UTF-8&amp;tbm=nws&amp;source=lnt&amp;tbs=ar:1&amp;sa=X&amp;ved=0ahUKEwju7daD5OT4AhVmm9gFHesQCeAQpwUIEg\">Archives</a>,\n",
              " <a href=\"/search?q=yahoo+finance+TSLA&amp;ie=UTF-8&amp;tbm=nws&amp;source=lnt&amp;tbs=sbd:1&amp;sa=X&amp;ved=0ahUKEwju7daD5OT4AhVmm9gFHesQCeAQpwUIFA\">Sorted by date</a>,\n",
              " <a href=\"/url?q=https://finance.yahoo.com/news/elephant-in-the-room-for-tesla-dan-ives-114140089.html&amp;sa=U&amp;ved=2ahUKEwju7daD5OT4AhVmm9gFHesQCeAQxfQBegQIAhAC&amp;usg=AOvVaw0ZXPepaugBjxdSJ_DKcmJX\"><div class=\"egMi0 kCrYT\"><h3 class=\"zBAuLc l97dzf\"><div class=\"BNeawe vvjwJb AP7Wnd\">'The elephant in the room for Tesla,' according to WedBush's Dan Ives</div></h3><div class=\"BNeawe UPmit AP7Wnd\">Yahoo Finance</div></div><div class=\"kCrYT\"><div class=\"lcJF1d Q6Xouf G6SP0b\"><div style=\"width:120px;height:66px;position:static\"><img alt=\"\" class=\"h1hFNe\" data-deferred=\"1\" id=\"dimg_5\" src=\"data:image/gif;base64,R0lGODlhAQABAIAAAP///////yH5BAEKAAEALAAAAAABAAEAAAICTAEAOw==\" style=\"width:120px;height:66px\"/></div></div><div><div class=\"BNeawe s3v9rd AP7Wnd\"><div><div class=\"BNeawe s3v9rd AP7Wnd\">GM earnings: 'It's a boy that cried wolf,' analyst says. Wedbush Managing Director &amp; Senior Equity Analyst Dan Ives joins Yahoo Finance Live to...<br/><span class=\"r0bn4c rQMQod\">1 day ago</span></div></div></div></div><div class=\"rl7ilb\"></div></div></a>,\n",
              " <a href=\"/url?q=https://finance.yahoo.com/news/wall-st-turns-gloomy-tesla-125557001.html&amp;sa=U&amp;ved=2ahUKEwju7daD5OT4AhVmm9gFHesQCeAQxfQBegQICBAC&amp;usg=AOvVaw3nrpVPznojctw5KSMXL7Bi\"><div class=\"egMi0 kCrYT\"><h3 class=\"zBAuLc l97dzf\"><div class=\"BNeawe vvjwJb AP7Wnd\">Tesla plays 'whack-a-mole' with snags as deliveries fall for first time in two years</div></h3><div class=\"BNeawe UPmit AP7Wnd\">Yahoo Finance</div></div><div class=\"kCrYT\"><div class=\"lcJF1d Q6Xouf G6SP0b\"><div style=\"width:120px;height:66px;position:static\"><img alt=\"\" class=\"h1hFNe\" data-deferred=\"1\" id=\"dimg_15\" src=\"data:image/gif;base64,R0lGODlhAQABAIAAAP///////yH5BAEKAAEALAAAAAABAAEAAAICTAEAOw==\" style=\"width:120px;height:66px\"/></div></div><div><div class=\"BNeawe s3v9rd AP7Wnd\"><div><div class=\"BNeawe s3v9rd AP7Wnd\">Yahoo Finance Live anchors discuss Mark Zuckerberg's economic warning to Meta employees, the average monthly care payment crossing the $700 mark...<br/><span class=\"r0bn4c rQMQod\">1 day ago</span></div></div></div></div><div class=\"rl7ilb\"></div></div></a>,\n",
              " <a href=\"/url?q=https://au.finance.yahoo.com/news/sure-tesla-solar-trailer-014900816.html&amp;sa=U&amp;ved=2ahUKEwju7daD5OT4AhVmm9gFHesQCeAQxfQBegQICRAC&amp;usg=AOvVaw30-SeF1KsakWvY99wlvdGc\"><div class=\"egMi0 kCrYT\"><h3 class=\"zBAuLc l97dzf\"><div class=\"BNeawe vvjwJb AP7Wnd\">Sure, Tesla, a solar trailer</div></h3><div class=\"BNeawe UPmit AP7Wnd\">Yahoo Finance</div></div><div class=\"kCrYT\"><div class=\"lcJF1d Q6Xouf G6SP0b\"><div style=\"width:120px;height:66px;position:static\"><img alt=\"\" class=\"h1hFNe\" data-deferred=\"1\" id=\"dimg_19\" src=\"data:image/gif;base64,R0lGODlhAQABAIAAAP///////yH5BAEKAAEALAAAAAABAAEAAAICTAEAOw==\" style=\"width:120px;height:66px\"/></div></div><div><div class=\"BNeawe s3v9rd AP7Wnd\"><div><div class=\"BNeawe s3v9rd AP7Wnd\">Over the weekend, Tesla showed off its latest gadget: a solar trailer, featuring extendable panels, a satellite internet terminal and even a...<br/><span class=\"r0bn4c rQMQod\">14 hours ago</span></div></div></div></div><div class=\"rl7ilb\"></div></div></a>,\n",
              " <a href=\"/url?q=https://finance.yahoo.com/news/station-robotaxi-roadblock-tesla-layoffs-110039924.html&amp;sa=U&amp;ved=2ahUKEwju7daD5OT4AhVmm9gFHesQCeAQxfQBegQIBxAC&amp;usg=AOvVaw1DfPsJwj784EM9fpHTer44\"><div class=\"egMi0 kCrYT\"><h3 class=\"zBAuLc l97dzf\"><div class=\"BNeawe vvjwJb AP7Wnd\">The Station: Robotaxi roadblock and Tesla layoffs hit Autopilot team</div></h3><div class=\"BNeawe UPmit AP7Wnd\">Yahoo Finance</div></div><div class=\"kCrYT\"><div class=\"lcJF1d Q6Xouf G6SP0b\"><div style=\"width:120px;height:66px;position:static\"><img alt=\"\" class=\"h1hFNe\" data-deferred=\"1\" id=\"dimg_17\" src=\"data:image/gif;base64,R0lGODlhAQABAIAAAP///////yH5BAEKAAEALAAAAAABAAEAAAICTAEAOw==\" style=\"width:120px;height:66px\"/></div></div><div><div class=\"BNeawe s3v9rd AP7Wnd\"><div><div class=\"BNeawe s3v9rd AP7Wnd\">Gains were broadly modest, however, with headwinds likely to remain a challenge. 23h ago. Yahoo Finance UK. Tesla recalls...<br/><span class=\"r0bn4c rQMQod\">2 days ago</span></div></div></div></div><div class=\"rl7ilb\"></div></div></a>,\n",
              " <a href=\"/url?q=https://finance.yahoo.com/news/tesla-wall-street-wary-of-q-2-deliveries-165057688.html&amp;sa=U&amp;ved=2ahUKEwju7daD5OT4AhVmm9gFHesQCeAQxfQBegQIBRAC&amp;usg=AOvVaw0aoVVpKWGpIYBGWWG5Zqj_\"><div class=\"egMi0 kCrYT\"><h3 class=\"zBAuLc l97dzf\"><div class=\"BNeawe vvjwJb AP7Wnd\">Tesla: Wall Street wary of Q2 deliveries</div></h3><div class=\"BNeawe UPmit AP7Wnd\">Yahoo Finance</div></div><div class=\"kCrYT\"><div class=\"lcJF1d Q6Xouf G6SP0b\"><div style=\"width:120px;height:66px;position:static\"><img alt=\"\" class=\"h1hFNe\" data-deferred=\"1\" id=\"dimg_13\" src=\"data:image/gif;base64,R0lGODlhAQABAIAAAP///////yH5BAEKAAEALAAAAAABAAEAAAICTAEAOw==\" style=\"width:120px;height:66px\"/></div></div><div><div class=\"BNeawe s3v9rd AP7Wnd\"><div><div class=\"BNeawe s3v9rd AP7Wnd\">As automakers prepare to release second quarter delivery numbers, concern is growing on Wall Street that Tesla's (TSLA) report could be a...<br/><span class=\"r0bn4c rQMQod\">6 days ago</span></div></div></div></div><div class=\"rl7ilb\"></div></div></a>,\n",
              " <a href=\"/url?q=https://finance.yahoo.com/news/china-electric-vehicle-stocks-rage-010001191.html&amp;sa=U&amp;ved=2ahUKEwju7daD5OT4AhVmm9gFHesQCeAQxfQBegQIARAC&amp;usg=AOvVaw2KQhel3tTulThW6YvOhLA_\"><div class=\"egMi0 kCrYT\"><h3 class=\"zBAuLc l97dzf\"><div class=\"BNeawe vvjwJb AP7Wnd\">China Electric-Vehicle Stocks Are All the Rage, Trouncing Tesla</div></h3><div class=\"BNeawe UPmit AP7Wnd\">Yahoo Finance</div></div><div class=\"kCrYT\"><div class=\"lcJF1d Q6Xouf G6SP0b\"><div style=\"width:120px;height:66px;position:static\"><img alt=\"\" class=\"h1hFNe\" data-deferred=\"1\" id=\"dimg_1\" src=\"data:image/gif;base64,R0lGODlhAQABAIAAAP///////yH5BAEKAAEALAAAAAABAAEAAAICTAEAOw==\" style=\"width:120px;height:66px\"/></div></div><div><div class=\"BNeawe s3v9rd AP7Wnd\"><div><div class=\"BNeawe s3v9rd AP7Wnd\">Their gains easily beat Tesla's 17% advance, with the divergence in China and US policy outlooks and investor jitters over how Elon Musk will...<br/><span class=\"r0bn4c rQMQod\">2 weeks ago</span></div></div></div></div><div class=\"rl7ilb\"></div></div></a>,\n",
              " <a href=\"/url?q=https://finance.yahoo.com/news/1-tesla-sold-78-000-101950848.html&amp;sa=U&amp;ved=2ahUKEwju7daD5OT4AhVmm9gFHesQCeAQxfQBegQIBhAC&amp;usg=AOvVaw1WxwKCha5F_K2MdCT8wRzp\"><div class=\"egMi0 kCrYT\"><h3 class=\"zBAuLc l97dzf\"><div class=\"BNeawe vvjwJb AP7Wnd\">UPDATE 1-Tesla sold 78,000 China-made vehicles in June, up 142% vs May -CPCA estimates</div></h3><div class=\"BNeawe UPmit AP7Wnd\">Yahoo Finance</div></div><div class=\"kCrYT\"><div class=\"lcJF1d Q6Xouf G6SP0b\"><div style=\"width:120px;height:68px;position:static\"><img alt=\"\" class=\"h1hFNe\" data-deferred=\"1\" id=\"dimg_3\" src=\"data:image/gif;base64,R0lGODlhAQABAIAAAP///////yH5BAEKAAEALAAAAAABAAEAAAICTAEAOw==\" style=\"width:120px;height:68px\"/></div></div><div><div class=\"BNeawe s3v9rd AP7Wnd\"><div><div class=\"BNeawe s3v9rd AP7Wnd\">Yahoo! Watchlists · My Portfolio · Cryptocurrencies · Yahoo Finance Plus · Screeners · Markets · News · Personal Finance · Videos · Yahoo U...<br/><span class=\"r0bn4c rQMQod\">7 hours ago</span></div></div></div></div><div class=\"rl7ilb\"></div></div></a>,\n",
              " <a href=\"/url?q=https://finance.yahoo.com/news/just-got-laid-off-dream-133711260.html&amp;sa=U&amp;ved=2ahUKEwju7daD5OT4AhVmm9gFHesQCeAQxfQBegQIBBAC&amp;usg=AOvVaw2HNx3e5RnWEFLhGSJYVjbJ\"><div class=\"egMi0 kCrYT\"><h3 class=\"zBAuLc l97dzf\"><div class=\"BNeawe vvjwJb AP7Wnd\">I just got laid off from my dream job at Tesla without warning. I feel like my life got uprooted so a billionaire could save some money.</div></h3><div class=\"BNeawe UPmit AP7Wnd\">Yahoo Finance</div></div><div class=\"kCrYT\"><div class=\"lcJF1d Q6Xouf G6SP0b\"><div style=\"width:120px;height:66px;position:static\"><img alt=\"\" class=\"h1hFNe\" data-deferred=\"1\" id=\"dimg_11\" src=\"data:image/gif;base64,R0lGODlhAQABAIAAAP///////yH5BAEKAAEALAAAAAABAAEAAAICTAEAOw==\" style=\"width:120px;height:66px\"/></div></div><div><div class=\"BNeawe s3v9rd AP7Wnd\"><div><div class=\"BNeawe s3v9rd AP7Wnd\">Yahoo Finance's Pras Subramanian explains why Tesla is slowing production in July. 1h ago. Yahoo Finance...<br/><span class=\"r0bn4c rQMQod\">1 week ago</span></div></div></div></div><div class=\"rl7ilb\"></div></div></a>,\n",
              " <a href=\"/url?q=https://ca.finance.yahoo.com/news/elon-musks-tesla-blew-past-124239012.html&amp;sa=U&amp;ved=2ahUKEwju7daD5OT4AhVmm9gFHesQCeAQxfQBegQIABAC&amp;usg=AOvVaw002bvyMIKwxFhxeoQickHz\"><div class=\"egMi0 kCrYT\"><h3 class=\"zBAuLc l97dzf\"><div class=\"BNeawe vvjwJb AP7Wnd\">Elon Musk's Tesla blew past Warren Buffett's Berkshire Hathaway in market value during the pandemic. Now it's less than $100 billion ahead.</div></h3><div class=\"BNeawe UPmit AP7Wnd\">Yahoo Finance</div></div><div class=\"kCrYT\"><div class=\"lcJF1d Q6Xouf G6SP0b\"><div style=\"width:120px;height:66px;position:static\"><img alt=\"\" class=\"h1hFNe\" data-deferred=\"1\" id=\"dimg_7\" src=\"data:image/gif;base64,R0lGODlhAQABAIAAAP///////yH5BAEKAAEALAAAAAABAAEAAAICTAEAOw==\" style=\"width:120px;height:66px\"/></div></div><div><div class=\"BNeawe s3v9rd AP7Wnd\"><div><div class=\"BNeawe s3v9rd AP7Wnd\">Tesla shares skyrocketed more than 12-fold during the first 18 months of the pandemic, as retail investors awarded \"meme stock\" status to the...<br/><span class=\"r0bn4c rQMQod\">2 days ago</span></div></div></div></div><div class=\"rl7ilb\"></div></div></a>,\n",
              " <a href=\"/url?q=https://finance.yahoo.com/news/us-stocks-wall-street-slips-165230856.html&amp;sa=U&amp;ved=2ahUKEwju7daD5OT4AhVmm9gFHesQCeAQxfQBegQIAxAC&amp;usg=AOvVaw1CVZ5rwtCtmOTYVMrqxTuN\"><div class=\"egMi0 kCrYT\"><h3 class=\"zBAuLc l97dzf\"><div class=\"BNeawe vvjwJb AP7Wnd\">US STOCKS-Wall Street slips ahead of Fed meeting minutes</div></h3><div class=\"BNeawe UPmit AP7Wnd\">Yahoo Finance</div></div><div class=\"kCrYT\"><div class=\"lcJF1d Q6Xouf G6SP0b\"><div style=\"width:120px;height:68px;position:static\"><img alt=\"\" class=\"h1hFNe\" data-deferred=\"1\" id=\"dimg_9\" src=\"data:image/gif;base64,R0lGODlhAQABAIAAAP///////yH5BAEKAAEALAAAAAABAAEAAAICTAEAOw==\" style=\"width:120px;height:68px\"/></div></div><div><div class=\"BNeawe s3v9rd AP7Wnd\"><div><div class=\"BNeawe s3v9rd AP7Wnd\">Yahoo Finance Video. Tesla halts production in Berlin, Shanghai factories. 1h ago. Motley Fool ... 21h ago. Yahoo Finance Video...<br/><span class=\"r0bn4c rQMQod\">32 mins ago</span></div></div></div></div><div class=\"rl7ilb\"></div></div></a>,\n",
              " <a aria-label=\"Next page\" class=\"nBDE1b G5eFlf\" href=\"/search?q=yahoo+finance+TSLA&amp;ie=UTF-8&amp;tbm=nws&amp;ei=ecXFYq7NEOa24t4P66GkgA4&amp;start=10&amp;sa=N\">Next &gt;</a>,\n",
              " <a href=\"/url?q=https://support.google.com/websearch%3Fp%3Dws_settings_location%26hl%3Den-IN&amp;sa=U&amp;ved=0ahUKEwju7daD5OT4AhVmm9gFHesQCeAQty4IUw&amp;usg=AOvVaw1_TwM-E_VI5VSZQWyMwOdo\">Learn more</a>,\n",
              " <a href=\"/url?q=https://accounts.google.com/ServiceLogin%3Fcontinue%3Dhttps://www.google.com/search%253Fq%253Dyahoo%252Bfinance%252BTSLA%2526tbm%253Dnws%26hl%3Den&amp;sa=U&amp;ved=0ahUKEwju7daD5OT4AhVmm9gFHesQCeAQxs8CCFQ&amp;usg=AOvVaw3HlywW1x8tECf4MYCnOEjw\">Sign in</a>,\n",
              " <a class=\"xeDNfc\" href=\"https://www.google.com/preferences?hl=en-IN&amp;fg=1&amp;sa=X&amp;ved=0ahUKEwju7daD5OT4AhVmm9gFHesQCeAQ5fUCCFU\">Settings</a>,\n",
              " <a class=\"xeDNfc\" href=\"https://policies.google.com/privacy?hl=en-IN&amp;fg=1\">Privacy</a>,\n",
              " <a class=\"xeDNfc\" href=\"https://policies.google.com/terms?hl=en-IN&amp;fg=1\">Terms</a>]"
            ]
          },
          "execution_count": 12,
          "metadata": {},
          "output_type": "execute_result"
        }
      ],
      "source": [
        "search_url = \"https://www.google.com/search?q=yahoo+finance+{}&tbm=nws\".format('TSLA')\n",
        "r = requests.get(search_url)\n",
        "soup = BeautifulSoup(r.text, 'html.parser')\n",
        "a_tags = soup.find_all('a')\n",
        "a_tags"
      ]
    },
    {
      "cell_type": "code",
      "execution_count": 13,
      "metadata": {
        "colab": {
          "base_uri": "https://localhost:8080/"
        },
        "id": "cys8nxuKrSut",
        "outputId": "77aee5f1-1b17-4bc8-ac33-c4ff3bf851ae"
      },
      "outputs": [
        {
          "data": {
            "text/plain": [
              "{'GME': ['/?sa=X&ved=0ahUKEwje8aiG5OT4AhWJBLcAHfc6A1MQOwgC',\n",
              "  '/search?q=yahoo+finance+GME&tbm=nws&ie=UTF-8&gbv=1&sei=fsXFYt66MYmJ3LUP9_WMmAU',\n",
              "  '/search?q=yahoo+finance+GME&ie=UTF-8&source=lnms&sa=X&ved=0ahUKEwje8aiG5OT4AhWJBLcAHfc6A1MQ_AUIBSgA',\n",
              "  '/search?q=yahoo+finance+GME&ie=UTF-8&tbm=bks&source=lnms&sa=X&ved=0ahUKEwje8aiG5OT4AhWJBLcAHfc6A1MQ_AUIBygC',\n",
              "  '/search?q=yahoo+finance+GME&ie=UTF-8&tbm=shop&source=lnms&sa=X&ved=0ahUKEwje8aiG5OT4AhWJBLcAHfc6A1MQ_AUICCgD',\n",
              "  '/search?q=yahoo+finance+GME&ie=UTF-8&tbm=isch&source=lnms&sa=X&ved=0ahUKEwje8aiG5OT4AhWJBLcAHfc6A1MQ_AUICSgE',\n",
              "  'https://maps.google.com/maps?q=yahoo+finance+GME&um=1&ie=UTF-8&sa=X&ved=0ahUKEwje8aiG5OT4AhWJBLcAHfc6A1MQ_AUICigF',\n",
              "  '/search?q=yahoo+finance+GME&ie=UTF-8&tbm=vid&source=lnms&sa=X&ved=0ahUKEwje8aiG5OT4AhWJBLcAHfc6A1MQ_AUICygG',\n",
              "  '/advanced_search',\n",
              "  '/search?q=yahoo+finance+GME&ie=UTF-8&tbm=nws&source=lnt&tbs=qdr:h&sa=X&ved=0ahUKEwje8aiG5OT4AhWJBLcAHfc6A1MQpwUIDQ',\n",
              "  '/search?q=yahoo+finance+GME&ie=UTF-8&tbm=nws&source=lnt&tbs=qdr:d&sa=X&ved=0ahUKEwje8aiG5OT4AhWJBLcAHfc6A1MQpwUIDg',\n",
              "  '/search?q=yahoo+finance+GME&ie=UTF-8&tbm=nws&source=lnt&tbs=qdr:w&sa=X&ved=0ahUKEwje8aiG5OT4AhWJBLcAHfc6A1MQpwUIDw',\n",
              "  '/search?q=yahoo+finance+GME&ie=UTF-8&tbm=nws&source=lnt&tbs=qdr:m&sa=X&ved=0ahUKEwje8aiG5OT4AhWJBLcAHfc6A1MQpwUIEA',\n",
              "  '/search?q=yahoo+finance+GME&ie=UTF-8&tbm=nws&source=lnt&tbs=qdr:y&sa=X&ved=0ahUKEwje8aiG5OT4AhWJBLcAHfc6A1MQpwUIEQ',\n",
              "  '/search?q=yahoo+finance+GME&ie=UTF-8&tbm=nws&source=lnt&tbs=ar:1&sa=X&ved=0ahUKEwje8aiG5OT4AhWJBLcAHfc6A1MQpwUIEg',\n",
              "  '/search?q=yahoo+finance+GME&ie=UTF-8&tbm=nws&source=lnt&tbs=sbd:1&sa=X&ved=0ahUKEwje8aiG5OT4AhWJBLcAHfc6A1MQpwUIFA',\n",
              "  '/url?q=https://finance.yahoo.com/news/robinhood-almost-imploded-during-gamestop-205051551.html&sa=U&ved=2ahUKEwje8aiG5OT4AhWJBLcAHfc6A1MQxfQBegQIBhAC&usg=AOvVaw1VvX6UWCtM5bmXeidB-osO',\n",
              "  '/url?q=https://finance.yahoo.com/news/analysis-shorts-circle-gamestop-amc-050545286.html&sa=U&ved=2ahUKEwje8aiG5OT4AhWJBLcAHfc6A1MQxfQBegQIBxAC&usg=AOvVaw10ttmBunm3BkBrISjmPHZj',\n",
              "  '/url?q=https://finance.yahoo.com/news/morning-brief-june-14-2022-100052802.html&sa=U&ved=2ahUKEwje8aiG5OT4AhWJBLcAHfc6A1MQxfQBegQICRAC&usg=AOvVaw3Cch9pLwfjqD7zcYDh9YI3',\n",
              "  '/url?q=https://finance.yahoo.com/news/td-ameritrade-investor-movement-index-163000660.html&sa=U&ved=2ahUKEwje8aiG5OT4AhWJBLcAHfc6A1MQxfQBegQICBAC&usg=AOvVaw2Bkfub2jVZdIwUx8kMfuoE',\n",
              "  '/url?q=https://finance.yahoo.com/news/15-best-penny-stocks-invest-142312669.html&sa=U&ved=2ahUKEwje8aiG5OT4AhWJBLcAHfc6A1MQxfQBegQIBBAC&usg=AOvVaw2mNM1WQBMxh8R11ODr3kIY',\n",
              "  '/url?q=https://www.thestreet.com/memestocks/gme/gamestop-stocks-direct-registration-is-increasing-free-float-is-being-locked-up&sa=U&ved=2ahUKEwje8aiG5OT4AhWJBLcAHfc6A1MQxfQBegQIAxAC&usg=AOvVaw3UJZCPcXTMqFwIt0mVyMEj',\n",
              "  '/url?q=https://finance.yahoo.com/news/business-school-graduates-enter-white-140000655.html&sa=U&ved=2ahUKEwje8aiG5OT4AhWJBLcAHfc6A1MQxfQBegQIARAC&usg=AOvVaw0TGh742r4WrT7uCwFilT_i',\n",
              "  '/url?q=https://finance.yahoo.com/news/gamestop-gme-stock-sinks-market-220010614.html&sa=U&ved=2ahUKEwje8aiG5OT4AhWJBLcAHfc6A1MQxfQBegQIBRAC&usg=AOvVaw2jQEFZ58D_6SapI2DOJeNK',\n",
              "  '/url?q=https://finance.yahoo.com/news/celsius-defies-fear-implosion-token-110843077.html&sa=U&ved=2ahUKEwje8aiG5OT4AhWJBLcAHfc6A1MQxfQBegQIABAC&usg=AOvVaw2cISzP-ErTM3HdV1dqn8vU',\n",
              "  '/url?q=https://finance.yahoo.com/news/amc-gme-have-seen-the-apex-of-their-interest-strategist-203140661.html&sa=U&ved=2ahUKEwje8aiG5OT4AhWJBLcAHfc6A1MQxfQBegQIAhAC&usg=AOvVaw098dIFcMiwqdKrjF17OD2X',\n",
              "  '/search?q=yahoo+finance+GME&ie=UTF-8&tbm=nws&ei=fsXFYt66MYmJ3LUP9_WMmAU&start=10&sa=N',\n",
              "  '/url?q=https://support.google.com/websearch%3Fp%3Dws_settings_location%26hl%3Den-IN&sa=U&ved=0ahUKEwje8aiG5OT4AhWJBLcAHfc6A1MQty4IUw&usg=AOvVaw0K0NUeoP47S3G9PXgsuBes',\n",
              "  '/url?q=https://accounts.google.com/ServiceLogin%3Fcontinue%3Dhttps://www.google.com/search%253Fq%253Dyahoo%252Bfinance%252BGME%2526tbm%253Dnws%26hl%3Den&sa=U&ved=0ahUKEwje8aiG5OT4AhWJBLcAHfc6A1MQxs8CCFQ&usg=AOvVaw3fvwV0hreD-7Yi8hJVUOWL',\n",
              "  'https://www.google.com/preferences?hl=en-IN&fg=1&sa=X&ved=0ahUKEwje8aiG5OT4AhWJBLcAHfc6A1MQ5fUCCFU',\n",
              "  'https://policies.google.com/privacy?hl=en-IN&fg=1',\n",
              "  'https://policies.google.com/terms?hl=en-IN&fg=1'],\n",
              " 'TSLA': ['/?sa=X&ved=0ahUKEwj_xIqI5OT4AhUBAbcAHcRPDrkQOwgC',\n",
              "  '/search?q=yahoo+finance+TSLA&tbm=nws&ie=UTF-8&gbv=1&sei=gsXFYv_7HoGC3LUPxJ-5yAs',\n",
              "  '/search?q=yahoo+finance+TSLA&ie=UTF-8&source=lnms&sa=X&ved=0ahUKEwj_xIqI5OT4AhUBAbcAHcRPDrkQ_AUIBSgA',\n",
              "  '/search?q=yahoo+finance+TSLA&ie=UTF-8&tbm=bks&source=lnms&sa=X&ved=0ahUKEwj_xIqI5OT4AhUBAbcAHcRPDrkQ_AUIBygC',\n",
              "  '/search?q=yahoo+finance+TSLA&ie=UTF-8&tbm=shop&source=lnms&sa=X&ved=0ahUKEwj_xIqI5OT4AhUBAbcAHcRPDrkQ_AUICCgD',\n",
              "  '/search?q=yahoo+finance+TSLA&ie=UTF-8&tbm=isch&source=lnms&sa=X&ved=0ahUKEwj_xIqI5OT4AhUBAbcAHcRPDrkQ_AUICSgE',\n",
              "  'https://maps.google.com/maps?q=yahoo+finance+TSLA&um=1&ie=UTF-8&sa=X&ved=0ahUKEwj_xIqI5OT4AhUBAbcAHcRPDrkQ_AUICigF',\n",
              "  '/search?q=yahoo+finance+TSLA&ie=UTF-8&tbm=vid&source=lnms&sa=X&ved=0ahUKEwj_xIqI5OT4AhUBAbcAHcRPDrkQ_AUICygG',\n",
              "  '/advanced_search',\n",
              "  '/search?q=yahoo+finance+TSLA&ie=UTF-8&tbm=nws&source=lnt&tbs=qdr:h&sa=X&ved=0ahUKEwj_xIqI5OT4AhUBAbcAHcRPDrkQpwUIDQ',\n",
              "  '/search?q=yahoo+finance+TSLA&ie=UTF-8&tbm=nws&source=lnt&tbs=qdr:d&sa=X&ved=0ahUKEwj_xIqI5OT4AhUBAbcAHcRPDrkQpwUIDg',\n",
              "  '/search?q=yahoo+finance+TSLA&ie=UTF-8&tbm=nws&source=lnt&tbs=qdr:w&sa=X&ved=0ahUKEwj_xIqI5OT4AhUBAbcAHcRPDrkQpwUIDw',\n",
              "  '/search?q=yahoo+finance+TSLA&ie=UTF-8&tbm=nws&source=lnt&tbs=qdr:m&sa=X&ved=0ahUKEwj_xIqI5OT4AhUBAbcAHcRPDrkQpwUIEA',\n",
              "  '/search?q=yahoo+finance+TSLA&ie=UTF-8&tbm=nws&source=lnt&tbs=qdr:y&sa=X&ved=0ahUKEwj_xIqI5OT4AhUBAbcAHcRPDrkQpwUIEQ',\n",
              "  '/search?q=yahoo+finance+TSLA&ie=UTF-8&tbm=nws&source=lnt&tbs=ar:1&sa=X&ved=0ahUKEwj_xIqI5OT4AhUBAbcAHcRPDrkQpwUIEg',\n",
              "  '/search?q=yahoo+finance+TSLA&ie=UTF-8&tbm=nws&source=lnt&tbs=sbd:1&sa=X&ved=0ahUKEwj_xIqI5OT4AhUBAbcAHcRPDrkQpwUIFA',\n",
              "  '/url?q=https://finance.yahoo.com/news/elephant-in-the-room-for-tesla-dan-ives-114140089.html&sa=U&ved=2ahUKEwj_xIqI5OT4AhUBAbcAHcRPDrkQxfQBegQIAhAC&usg=AOvVaw1-fAo0q7zkQL9sbrGLswoN',\n",
              "  '/url?q=https://finance.yahoo.com/news/wall-st-turns-gloomy-tesla-125557001.html&sa=U&ved=2ahUKEwj_xIqI5OT4AhUBAbcAHcRPDrkQxfQBegQICRAC&usg=AOvVaw0IIqBhPiyiQhebi_-CGUkK',\n",
              "  '/url?q=https://au.finance.yahoo.com/news/sure-tesla-solar-trailer-014900816.html&sa=U&ved=2ahUKEwj_xIqI5OT4AhUBAbcAHcRPDrkQxfQBegQIBxAC&usg=AOvVaw1t8O6NY2T55KPErXaMxVu5',\n",
              "  '/url?q=https://finance.yahoo.com/news/station-robotaxi-roadblock-tesla-layoffs-110039924.html&sa=U&ved=2ahUKEwj_xIqI5OT4AhUBAbcAHcRPDrkQxfQBegQICBAC&usg=AOvVaw1uJiLV9xnYlkEDw1h7JCJy',\n",
              "  '/url?q=https://finance.yahoo.com/news/tesla-wall-street-wary-of-q-2-deliveries-165057688.html&sa=U&ved=2ahUKEwj_xIqI5OT4AhUBAbcAHcRPDrkQxfQBegQIBBAC&usg=AOvVaw2WpOBDPz7FHjK3FE6_RBc4',\n",
              "  '/url?q=https://finance.yahoo.com/news/china-electric-vehicle-stocks-rage-010001191.html&sa=U&ved=2ahUKEwj_xIqI5OT4AhUBAbcAHcRPDrkQxfQBegQIBhAC&usg=AOvVaw2TH5TBgvrrrECKKYHXDL2l',\n",
              "  '/url?q=https://finance.yahoo.com/news/1-tesla-sold-78-000-101950848.html&sa=U&ved=2ahUKEwj_xIqI5OT4AhUBAbcAHcRPDrkQxfQBegQIARAC&usg=AOvVaw0-ZWJUqJZtnwQ2qqcmR3dm',\n",
              "  '/url?q=https://finance.yahoo.com/news/just-got-laid-off-dream-133711260.html&sa=U&ved=2ahUKEwj_xIqI5OT4AhUBAbcAHcRPDrkQxfQBegQIABAC&usg=AOvVaw0_3KG648AgL5mVpPJQS8V8',\n",
              "  '/url?q=https://ca.finance.yahoo.com/news/elon-musks-tesla-blew-past-124239012.html&sa=U&ved=2ahUKEwj_xIqI5OT4AhUBAbcAHcRPDrkQxfQBegQIBRAC&usg=AOvVaw1fOYXu_xgyNkADabWl17Fs',\n",
              "  '/url?q=https://finance.yahoo.com/news/us-stocks-wall-street-slips-165230856.html&sa=U&ved=2ahUKEwj_xIqI5OT4AhUBAbcAHcRPDrkQxfQBegQIAxAC&usg=AOvVaw0oFFlb46ZQ_cs6Htl51Zfn',\n",
              "  '/search?q=yahoo+finance+TSLA&ie=UTF-8&tbm=nws&ei=gsXFYv_7HoGC3LUPxJ-5yAs&start=10&sa=N',\n",
              "  '/url?q=https://support.google.com/websearch%3Fp%3Dws_settings_location%26hl%3Den-IN&sa=U&ved=0ahUKEwj_xIqI5OT4AhUBAbcAHcRPDrkQty4IUw&usg=AOvVaw0HDFrfqAZzE1_uAlnx1w1w',\n",
              "  '/url?q=https://accounts.google.com/ServiceLogin%3Fcontinue%3Dhttps://www.google.com/search%253Fq%253Dyahoo%252Bfinance%252BTSLA%2526tbm%253Dnws%26hl%3Den&sa=U&ved=0ahUKEwj_xIqI5OT4AhUBAbcAHcRPDrkQxs8CCFQ&usg=AOvVaw20dMyRmyH786AWPnu4T81E',\n",
              "  'https://www.google.com/preferences?hl=en-IN&fg=1&sa=X&ved=0ahUKEwj_xIqI5OT4AhUBAbcAHcRPDrkQ5fUCCFU',\n",
              "  'https://policies.google.com/privacy?hl=en-IN&fg=1',\n",
              "  'https://policies.google.com/terms?hl=en-IN&fg=1'],\n",
              " 'BTC': ['/?sa=X&ved=0ahUKEwjZr_qJ5OT4AhU4JbcAHTCKBTUQOwgC',\n",
              "  '/search?q=yahoo+finance+BTC&tbm=nws&ie=UTF-8&gbv=1&sei=hsXFYtnUGrjK3LUPsJSWqAM',\n",
              "  '/search?q=yahoo+finance+BTC&ie=UTF-8&source=lnms&sa=X&ved=0ahUKEwjZr_qJ5OT4AhU4JbcAHTCKBTUQ_AUIBSgA',\n",
              "  '/search?q=yahoo+finance+BTC&ie=UTF-8&tbm=shop&source=lnms&sa=X&ved=0ahUKEwjZr_qJ5OT4AhU4JbcAHTCKBTUQ_AUIBygC',\n",
              "  '/search?q=yahoo+finance+BTC&ie=UTF-8&tbm=isch&source=lnms&sa=X&ved=0ahUKEwjZr_qJ5OT4AhU4JbcAHTCKBTUQ_AUICCgD',\n",
              "  'https://maps.google.com/maps?q=yahoo+finance+BTC&um=1&ie=UTF-8&sa=X&ved=0ahUKEwjZr_qJ5OT4AhU4JbcAHTCKBTUQ_AUICSgE',\n",
              "  '/search?q=yahoo+finance+BTC&ie=UTF-8&tbm=vid&source=lnms&sa=X&ved=0ahUKEwjZr_qJ5OT4AhU4JbcAHTCKBTUQ_AUICigF',\n",
              "  '/search?q=yahoo+finance+BTC&ie=UTF-8&tbm=bks&source=lnms&sa=X&ved=0ahUKEwjZr_qJ5OT4AhU4JbcAHTCKBTUQ_AUICygG',\n",
              "  '/advanced_search',\n",
              "  '/search?q=yahoo+finance+BTC&ie=UTF-8&tbm=nws&source=lnt&tbs=qdr:h&sa=X&ved=0ahUKEwjZr_qJ5OT4AhU4JbcAHTCKBTUQpwUIDQ',\n",
              "  '/search?q=yahoo+finance+BTC&ie=UTF-8&tbm=nws&source=lnt&tbs=qdr:d&sa=X&ved=0ahUKEwjZr_qJ5OT4AhU4JbcAHTCKBTUQpwUIDg',\n",
              "  '/search?q=yahoo+finance+BTC&ie=UTF-8&tbm=nws&source=lnt&tbs=qdr:w&sa=X&ved=0ahUKEwjZr_qJ5OT4AhU4JbcAHTCKBTUQpwUIDw',\n",
              "  '/search?q=yahoo+finance+BTC&ie=UTF-8&tbm=nws&source=lnt&tbs=qdr:m&sa=X&ved=0ahUKEwjZr_qJ5OT4AhU4JbcAHTCKBTUQpwUIEA',\n",
              "  '/search?q=yahoo+finance+BTC&ie=UTF-8&tbm=nws&source=lnt&tbs=qdr:y&sa=X&ved=0ahUKEwjZr_qJ5OT4AhU4JbcAHTCKBTUQpwUIEQ',\n",
              "  '/search?q=yahoo+finance+BTC&ie=UTF-8&tbm=nws&source=lnt&tbs=ar:1&sa=X&ved=0ahUKEwjZr_qJ5OT4AhU4JbcAHTCKBTUQpwUIEg',\n",
              "  '/search?q=yahoo+finance+BTC&ie=UTF-8&tbm=nws&source=lnt&tbs=sbd:1&sa=X&ved=0ahUKEwjZr_qJ5OT4AhU4JbcAHTCKBTUQpwUIFA',\n",
              "  '/url?q=https://finance.yahoo.com/news/cleanspark-announces-june-2022-bitcoin-130000731.html&sa=U&ved=2ahUKEwjZr_qJ5OT4AhU4JbcAHTCKBTUQxfQBegQIAhAC&usg=AOvVaw14vLrR-7MNZ5WQYzU0g4Zc',\n",
              "  '/url?q=https://finance.yahoo.com/news/expect-bitcoin-ethereum-q3-2022-220819408.html&sa=U&ved=2ahUKEwjZr_qJ5OT4AhU4JbcAHTCKBTUQxfQBegQICRAC&usg=AOvVaw3iWT5V6QJVUwc7Jj7PbGK4',\n",
              "  '/url?q=https://finance.yahoo.com/news/binance-celebrates-5th-anniversary-zero-140000278.html&sa=U&ved=2ahUKEwjZr_qJ5OT4AhU4JbcAHTCKBTUQxfQBegQIBxAC&usg=AOvVaw1GXdMOmkvoSKfmTU4on8BZ',\n",
              "  '/url?q=https://finance.yahoo.com/news/bitcoin-price-june-17-2022-203000768.html&sa=U&ved=2ahUKEwjZr_qJ5OT4AhU4JbcAHTCKBTUQxfQBegQICBAC&usg=AOvVaw0S1JrH0zcfYYCmbGja_njt',\n",
              "  '/url?q=https://finance.yahoo.com/news/bitcoin-drops-133248611.html&sa=U&ved=2ahUKEwjZr_qJ5OT4AhU4JbcAHTCKBTUQxfQBegQIBhAC&usg=AOvVaw1VNhe4KoHPwxBrtBDwBgwk',\n",
              "  '/url?q=https://finance.yahoo.com/news/digihost-announces-y-y-129-113000504.html&sa=U&ved=2ahUKEwjZr_qJ5OT4AhU4JbcAHTCKBTUQxfQBegQIBBAC&usg=AOvVaw1U3DWB3B5OR_6K2iNbjh46',\n",
              "  '/url?q=https://finance.yahoo.com/news/bitcoin-saylor-buy-june-29-2022-185345513.html&sa=U&ved=2ahUKEwjZr_qJ5OT4AhU4JbcAHTCKBTUQxfQBegQIAxAC&usg=AOvVaw0BzPmWB3SJzg3GB_kLGsjO',\n",
              "  '/url?q=https://finance.yahoo.com/news/traders-saying-bitcoins-biggest-monthly-090000278.html&sa=U&ved=2ahUKEwjZr_qJ5OT4AhU4JbcAHTCKBTUQxfQBegQIARAC&usg=AOvVaw3WhOTwbI8j4IIZFULHxJzG',\n",
              "  '/url?q=https://finance.yahoo.com/news/bitcoin-surges-11-dip-buyers-012711385.html&sa=U&ved=2ahUKEwjZr_qJ5OT4AhU4JbcAHTCKBTUQxfQBegQIABAC&usg=AOvVaw3lf6PeafUyZDDGyq-D3Jyi',\n",
              "  '/url?q=https://finance.yahoo.com/news/custodia-banks-ceo-says-bad-184433430.html&sa=U&ved=2ahUKEwjZr_qJ5OT4AhU4JbcAHTCKBTUQxfQBegQIBRAC&usg=AOvVaw0a6TjnbjLGWGhYl0J0cJL8',\n",
              "  '/search?q=yahoo+finance+BTC&ie=UTF-8&tbm=nws&ei=hsXFYtnUGrjK3LUPsJSWqAM&start=10&sa=N',\n",
              "  '/url?q=https://support.google.com/websearch%3Fp%3Dws_settings_location%26hl%3Den-IN&sa=U&ved=0ahUKEwjZr_qJ5OT4AhU4JbcAHTCKBTUQty4IUw&usg=AOvVaw0EDE_YY3Bk45pRgqll5-uS',\n",
              "  '/url?q=https://accounts.google.com/ServiceLogin%3Fcontinue%3Dhttps://www.google.com/search%253Fq%253Dyahoo%252Bfinance%252BBTC%2526tbm%253Dnws%26hl%3Den&sa=U&ved=0ahUKEwjZr_qJ5OT4AhU4JbcAHTCKBTUQxs8CCFQ&usg=AOvVaw20gTXrilOooFemv7AT3h7Z',\n",
              "  'https://www.google.com/preferences?hl=en-IN&fg=1&sa=X&ved=0ahUKEwjZr_qJ5OT4AhU4JbcAHTCKBTUQ5fUCCFU',\n",
              "  'https://policies.google.com/privacy?hl=en-IN&fg=1',\n",
              "  'https://policies.google.com/terms?hl=en-IN&fg=1']}"
            ]
          },
          "execution_count": 13,
          "metadata": {},
          "output_type": "execute_result"
        }
      ],
      "source": [
        "raw_urls = {ticker:search_for_news_url(ticker) for ticker in monitored_tickers}\n",
        "raw_urls"
      ]
    },
    {
      "cell_type": "code",
      "execution_count": 14,
      "metadata": {
        "id": "1YK-KTywsLTO"
      },
      "outputs": [],
      "source": [
        "import re"
      ]
    },
    {
      "cell_type": "code",
      "execution_count": 15,
      "metadata": {
        "id": "TBy-VzX9tIlf"
      },
      "outputs": [],
      "source": [
        "exclude_list = ['maps', 'policies', 'accounts', 'preferences', 'support', 'consent']"
      ]
    },
    {
      "cell_type": "code",
      "execution_count": 16,
      "metadata": {
        "id": "qZwgBfZJtPlt"
      },
      "outputs": [],
      "source": [
        "def strip_unwanted_urls(urls, exclude_list):\n",
        "  val = []\n",
        "  for url in urls:\n",
        "    if 'https://' in url and not any(exclude_word in url for exclude_word in exclude_list):\n",
        "      res = re.findall(r'(https?://\\S+)', url)[0].split('&')[0]\n",
        "      val.append(res)\n",
        "  return list(set(val))"
      ]
    },
    {
      "cell_type": "code",
      "execution_count": 18,
      "metadata": {
        "colab": {
          "base_uri": "https://localhost:8080/"
        },
        "id": "H9Aaz4Wiug8f",
        "outputId": "c258fda4-db7b-40b7-d16c-418e77405fbc"
      },
      "outputs": [
        {
          "data": {
            "text/plain": [
              "{'GME': ['https://finance.yahoo.com/news/analysis-shorts-circle-gamestop-amc-050545286.html',\n",
              "  'https://finance.yahoo.com/news/15-best-penny-stocks-invest-142312669.html',\n",
              "  'https://finance.yahoo.com/news/business-school-graduates-enter-white-140000655.html',\n",
              "  'https://finance.yahoo.com/news/celsius-defies-fear-implosion-token-110843077.html',\n",
              "  'https://finance.yahoo.com/news/gamestop-gme-stock-sinks-market-220010614.html',\n",
              "  'https://finance.yahoo.com/news/morning-brief-june-14-2022-100052802.html',\n",
              "  'https://finance.yahoo.com/news/amc-gme-have-seen-the-apex-of-their-interest-strategist-203140661.html',\n",
              "  'https://finance.yahoo.com/news/robinhood-almost-imploded-during-gamestop-205051551.html',\n",
              "  'https://www.thestreet.com/memestocks/gme/gamestop-stocks-direct-registration-is-increasing-free-float-is-being-locked-up',\n",
              "  'https://finance.yahoo.com/news/td-ameritrade-investor-movement-index-163000660.html'],\n",
              " 'TSLA': ['https://finance.yahoo.com/news/elephant-in-the-room-for-tesla-dan-ives-114140089.html',\n",
              "  'https://au.finance.yahoo.com/news/sure-tesla-solar-trailer-014900816.html',\n",
              "  'https://finance.yahoo.com/news/us-stocks-wall-street-slips-165230856.html',\n",
              "  'https://finance.yahoo.com/news/tesla-wall-street-wary-of-q-2-deliveries-165057688.html',\n",
              "  'https://finance.yahoo.com/news/china-electric-vehicle-stocks-rage-010001191.html',\n",
              "  'https://finance.yahoo.com/news/wall-st-turns-gloomy-tesla-125557001.html',\n",
              "  'https://ca.finance.yahoo.com/news/elon-musks-tesla-blew-past-124239012.html',\n",
              "  'https://finance.yahoo.com/news/1-tesla-sold-78-000-101950848.html',\n",
              "  'https://finance.yahoo.com/news/station-robotaxi-roadblock-tesla-layoffs-110039924.html',\n",
              "  'https://finance.yahoo.com/news/just-got-laid-off-dream-133711260.html'],\n",
              " 'BTC': ['https://finance.yahoo.com/news/bitcoin-saylor-buy-june-29-2022-185345513.html',\n",
              "  'https://finance.yahoo.com/news/cleanspark-announces-june-2022-bitcoin-130000731.html',\n",
              "  'https://finance.yahoo.com/news/traders-saying-bitcoins-biggest-monthly-090000278.html',\n",
              "  'https://finance.yahoo.com/news/bitcoin-drops-133248611.html',\n",
              "  'https://finance.yahoo.com/news/binance-celebrates-5th-anniversary-zero-140000278.html',\n",
              "  'https://finance.yahoo.com/news/bitcoin-price-june-17-2022-203000768.html',\n",
              "  'https://finance.yahoo.com/news/digihost-announces-y-y-129-113000504.html',\n",
              "  'https://finance.yahoo.com/news/expect-bitcoin-ethereum-q3-2022-220819408.html',\n",
              "  'https://finance.yahoo.com/news/bitcoin-surges-11-dip-buyers-012711385.html',\n",
              "  'https://finance.yahoo.com/news/custodia-banks-ceo-says-bad-184433430.html']}"
            ]
          },
          "execution_count": 18,
          "metadata": {},
          "output_type": "execute_result"
        }
      ],
      "source": [
        "cleaned_urls = {ticker:strip_unwanted_urls(urls, exclude_list) for ticker, urls in raw_urls.items()}\n",
        "cleaned_urls"
      ]
    },
    {
      "cell_type": "code",
      "execution_count": 27,
      "metadata": {
        "id": "AfuIjJ7pu3jZ"
      },
      "outputs": [],
      "source": [
        "def scrape_and_process(URLs):\n",
        "    ARTICLES = []\n",
        "    for url in URLs:\n",
        "        # print(url)\n",
        "        r = requests.get(url)\n",
        "        soup = BeautifulSoup(r.text, 'html.parser')\n",
        "        paragraphs = soup.find_all('p')\n",
        "        text = [paragraph.text for paragraph in paragraphs]\n",
        "        words = \" \".join(text).split(' ')[:300]\n",
        "        ARTICLE = \" \".join(words)\n",
        "        # print(ARTICLE)\n",
        "        ARTICLES.append(ARTICLE)\n",
        "    return ARTICLES\n"
      ]
    },
    {
      "cell_type": "code",
      "execution_count": null,
      "metadata": {},
      "outputs": [],
      "source": [
        "articles = {ticker:scrape_and_process(cleaned_urls[ticker]) for ticker in monitored_tickers}\n",
        "articles"
      ]
    },
    {
      "cell_type": "code",
      "execution_count": 29,
      "metadata": {},
      "outputs": [],
      "source": [
        "def summarize(articles):\n",
        "    summaries = []\n",
        "    for article in articles:\n",
        "        input_ids = tokenizer.encode(article,return_tensors='pt')\n",
        "        output = model.generate(input_ids, max_length=55, num_beams = 5, early_stopping=True)\n",
        "        summary = tokenizer.decode(output[0], skip_special_tokens=True)\n",
        "        summaries.append(summary)\n",
        "    return summaries"
      ]
    },
    {
      "cell_type": "code",
      "execution_count": 30,
      "metadata": {},
      "outputs": [
        {
          "data": {
            "text/plain": [
              "{'GME': ['Retail investors have been net sellers of single stocks. Hedge funds have become more dominant short sellers',\n",
              "  '15 best penny stocks to invest in. These stocks provide investors with decent short-term returns',\n",
              "  'Survey finds 92 percent of corporate recruiters expecting to hire MBAs. East, Southeast Asia and Middle East recruiters most confident',\n",
              "  'Celsius token has soared 218% since June 13. Investors targeting short sellers who profited from ‘bank run’',\n",
              "  'We are aware of the issue and are working to resolve it.',\n",
              "  '‘We pass, for now,’ BlackRock says of ‘buy the dip’ strategy',\n",
              "  'We are aware of the issue and are working to resolve it.',\n",
              "  'Report says FTX had no active talks to buy Gamestop. Report says regulators need to do more to regulate apps',\n",
              "  'Direct Registration System (DRS) is increasingly being used by shareholders. Retail investors have been using the service for years',\n",
              "  'IMXSM reading ranks ‘Moderate Low’ compared to historic averages. Ameritrade clients were net buyers of equities overall in June'],\n",
              " 'TSLA': ['Electric vehicle maker reported better-than-expected second quarter. Musk says recession risk is imminent, could slow demand',\n",
              "  'The trailer was displayed at IdeenExpo, a tech conference in Hannover, Germany.',\n",
              "  'We are aware of the issue and are working to resolve it.',\n",
              "  'Deutsche Bank, Goldman Sachs cut Q2 deliveries estimates. Musk says ‘insane’ end-of-quarter delivery push possible',\n",
              "  'China’s EV makers have surged 64% over past month. Beijing’s stimulus has boosted EV sales, production',\n",
              "  \"J.P Morgan cuts PT on carmaker's shares to $385, says issues at new factories.\",\n",
              "  'EV maker has lost 45% of its value since November 2020. Tesla was worth twice as much as Berkshire in November 2020',\n",
              "  'Tesla sales up 142% from May, up 135% from a year ago. China passenger car association publishes preliminary estimates',\n",
              "  'In case you missed it, here’s a round-up of the week in tech.',\n",
              "  'recruiter Quishon Walker was laid off earlier this month. He says that the layoffs were very sudden and that he feels for all the other people'],\n",
              " 'BTC': ['The cryptocurrency is trading near a two-month low. Saylor says crypto is the right choice for a treasury reserve asset',\n",
              "  'We are aware of the issue and are working to resolve it.',\n",
              "  'June was second-biggest monthly loss for the cryptocurrency. Analysts expect institutional investment to boost prices in July',\n",
              "  'Bitcoin has lost almost 30% over the past week, Ether has been hit hard. Ripple, Litecoin and others have also seen their prices drop',\n",
              "  'We are aware of the issue and are working to resolve it.',\n",
              "  'Bitcoin is down nearly 30% in the past week, Ether is down 36%. Liquidity crisis has affected a string of crypto hedge funds and lenders',\n",
              "  'Production Highlights for June 2022 Mined 72.18 BTC, resulting in total holdings of 293.30 BTC.',\n",
              "  'Coin’s price consolidated last week around 2017 all-time-high price of $20,000.',\n",
              "  'Largest token briefly closes in on $21,000 level in Asia. Coin has lost more than half of its value this year',\n",
              "  'Custodia Bank CEO says crypto crash was foreseeable. Regulators haven’t been prosecuting bad actors, she says']}"
            ]
          },
          "execution_count": 30,
          "metadata": {},
          "output_type": "execute_result"
        }
      ],
      "source": [
        "summaries = {ticker:summarize(articles[ticker]) for ticker in monitored_tickers}\n",
        "summaries"
      ]
    },
    {
      "cell_type": "code",
      "execution_count": 31,
      "metadata": {},
      "outputs": [
        {
          "name": "stderr",
          "output_type": "stream",
          "text": [
            "No model was supplied, defaulted to distilbert-base-uncased-finetuned-sst-2-english (https://huggingface.co/distilbert-base-uncased-finetuned-sst-2-english)\n"
          ]
        },
        {
          "data": {
            "application/vnd.jupyter.widget-view+json": {
              "model_id": "8ae3e66741a44c2482397842f3ad3f1e",
              "version_major": 2,
              "version_minor": 0
            },
            "text/plain": [
              "Downloading:   0%|          | 0.00/629 [00:00<?, ?B/s]"
            ]
          },
          "metadata": {},
          "output_type": "display_data"
        },
        {
          "data": {
            "application/vnd.jupyter.widget-view+json": {
              "model_id": "49862c86d19845bf90cf5f9bc206f72f",
              "version_major": 2,
              "version_minor": 0
            },
            "text/plain": [
              "Downloading:   0%|          | 0.00/255M [00:00<?, ?B/s]"
            ]
          },
          "metadata": {},
          "output_type": "display_data"
        },
        {
          "data": {
            "application/vnd.jupyter.widget-view+json": {
              "model_id": "4f326efff8904db48973430c792e6113",
              "version_major": 2,
              "version_minor": 0
            },
            "text/plain": [
              "Downloading:   0%|          | 0.00/48.0 [00:00<?, ?B/s]"
            ]
          },
          "metadata": {},
          "output_type": "display_data"
        },
        {
          "data": {
            "application/vnd.jupyter.widget-view+json": {
              "model_id": "6061d9bffb2f47bf9952f6b8bc390a15",
              "version_major": 2,
              "version_minor": 0
            },
            "text/plain": [
              "Downloading:   0%|          | 0.00/226k [00:00<?, ?B/s]"
            ]
          },
          "metadata": {},
          "output_type": "display_data"
        }
      ],
      "source": [
        "from transformers import pipeline\n",
        "sentiment = pipeline('sentiment-analysis')"
      ]
    },
    {
      "cell_type": "code",
      "execution_count": 34,
      "metadata": {},
      "outputs": [
        {
          "data": {
            "text/plain": [
              "[{'label': 'NEGATIVE', 'score': 0.8954309225082397},\n",
              " {'label': 'POSITIVE', 'score': 0.9990646243095398},\n",
              " {'label': 'POSITIVE', 'score': 0.9955031275749207},\n",
              " {'label': 'POSITIVE', 'score': 0.9938773512840271},\n",
              " {'label': 'POSITIVE', 'score': 0.9979088306427002},\n",
              " {'label': 'NEGATIVE', 'score': 0.9879947304725647},\n",
              " {'label': 'POSITIVE', 'score': 0.9979088306427002},\n",
              " {'label': 'NEGATIVE', 'score': 0.9996492862701416},\n",
              " {'label': 'NEGATIVE', 'score': 0.9811649322509766},\n",
              " {'label': 'NEGATIVE', 'score': 0.9981441497802734}]"
            ]
          },
          "execution_count": 34,
          "metadata": {},
          "output_type": "execute_result"
        }
      ],
      "source": [
        "sentiment(summaries['GME'])"
      ]
    },
    {
      "cell_type": "code",
      "execution_count": 35,
      "metadata": {},
      "outputs": [
        {
          "data": {
            "text/plain": [
              "{'GME': [{'label': 'NEGATIVE', 'score': 0.8954309225082397},\n",
              "  {'label': 'POSITIVE', 'score': 0.9990646243095398},\n",
              "  {'label': 'POSITIVE', 'score': 0.9955031275749207},\n",
              "  {'label': 'POSITIVE', 'score': 0.9938773512840271},\n",
              "  {'label': 'POSITIVE', 'score': 0.9979088306427002},\n",
              "  {'label': 'NEGATIVE', 'score': 0.9879947304725647},\n",
              "  {'label': 'POSITIVE', 'score': 0.9979088306427002},\n",
              "  {'label': 'NEGATIVE', 'score': 0.9996492862701416},\n",
              "  {'label': 'NEGATIVE', 'score': 0.9811649322509766},\n",
              "  {'label': 'NEGATIVE', 'score': 0.9981441497802734}],\n",
              " 'TSLA': [{'label': 'NEGATIVE', 'score': 0.9908789992332458},\n",
              "  {'label': 'NEGATIVE', 'score': 0.9685335755348206},\n",
              "  {'label': 'POSITIVE', 'score': 0.9979088306427002},\n",
              "  {'label': 'NEGATIVE', 'score': 0.9912733435630798},\n",
              "  {'label': 'POSITIVE', 'score': 0.9996529817581177},\n",
              "  {'label': 'NEGATIVE', 'score': 0.997852087020874},\n",
              "  {'label': 'NEGATIVE', 'score': 0.9994866847991943},\n",
              "  {'label': 'POSITIVE', 'score': 0.7619246244430542},\n",
              "  {'label': 'NEGATIVE', 'score': 0.5460083484649658},\n",
              "  {'label': 'NEGATIVE', 'score': 0.8861335515975952}],\n",
              " 'BTC': [{'label': 'NEGATIVE', 'score': 0.9767100214958191},\n",
              "  {'label': 'POSITIVE', 'score': 0.9979088306427002},\n",
              "  {'label': 'NEGATIVE', 'score': 0.9980206489562988},\n",
              "  {'label': 'NEGATIVE', 'score': 0.9993683695793152},\n",
              "  {'label': 'POSITIVE', 'score': 0.9979088306427002},\n",
              "  {'label': 'NEGATIVE', 'score': 0.9992375373840332},\n",
              "  {'label': 'NEGATIVE', 'score': 0.9509504437446594},\n",
              "  {'label': 'NEGATIVE', 'score': 0.6319164633750916},\n",
              "  {'label': 'NEGATIVE', 'score': 0.9995661377906799},\n",
              "  {'label': 'POSITIVE', 'score': 0.9867738485336304}]}"
            ]
          },
          "execution_count": 35,
          "metadata": {},
          "output_type": "execute_result"
        }
      ],
      "source": [
        "scores = {ticker:sentiment(summaries[ticker]) for ticker in monitored_tickers}\n",
        "scores"
      ]
    },
    {
      "cell_type": "code",
      "execution_count": 37,
      "metadata": {},
      "outputs": [],
      "source": [
        "def create_output_array(summaries, scores, urls):\n",
        "    output = []\n",
        "    for ticker in monitored_tickers:\n",
        "        for counter in range(len(summaries[ticker])):\n",
        "            output_list = [\n",
        "                ticker,\n",
        "                summaries[ticker][counter],\n",
        "                scores[ticker][counter]['label'],\n",
        "                scores[ticker][counter]['score'],\n",
        "                urls[ticker][counter]\n",
        "            ]\n",
        "            output.append(output_list)\n",
        "    return output"
      ]
    },
    {
      "cell_type": "code",
      "execution_count": 38,
      "metadata": {},
      "outputs": [],
      "source": [
        "final_output = create_output_array(summaries, scores, cleaned_urls)"
      ]
    },
    {
      "cell_type": "code",
      "execution_count": 40,
      "metadata": {},
      "outputs": [],
      "source": [
        "final_output.insert(0, ['Ticker', 'Summary', 'Label', 'Confidence', 'URL'])"
      ]
    },
    {
      "cell_type": "code",
      "execution_count": null,
      "metadata": {},
      "outputs": [],
      "source": [
        "final_output"
      ]
    },
    {
      "cell_type": "code",
      "execution_count": 43,
      "metadata": {},
      "outputs": [],
      "source": [
        "import csv\n",
        "with open('assetSummaries.csv', mode='w', newline='') as f:\n",
        "    csv_writer = csv.writer(f, delimiter=',', quotechar='\"', quoting=csv.QUOTE_MINIMAL)\n",
        "    csv_writer.writerows(final_output)"
      ]
    },
    {
      "cell_type": "code",
      "execution_count": null,
      "metadata": {},
      "outputs": [],
      "source": []
    }
  ],
  "metadata": {
    "colab": {
      "name": "Scrape and Summarize Stocks.ipynb",
      "provenance": []
    },
    "kernelspec": {
      "display_name": "Python 3.10.4 ('pytorch')",
      "language": "python",
      "name": "python3"
    },
    "language_info": {
      "codemirror_mode": {
        "name": "ipython",
        "version": 3
      },
      "file_extension": ".py",
      "mimetype": "text/x-python",
      "name": "python",
      "nbconvert_exporter": "python",
      "pygments_lexer": "ipython3",
      "version": "3.10.4"
    },
    "vscode": {
      "interpreter": {
        "hash": "a10af3278dd1c837cda384bec52ddb34a020bb93c686a86b9c8dd25a8e95fa03"
      }
    },
    "widgets": {
      "application/vnd.jupyter.widget-state+json": {
        "053b2eb47dd0493d8b699e4aff1885a4": {
          "model_module": "@jupyter-widgets/controls",
          "model_module_version": "1.5.0",
          "model_name": "FloatProgressModel",
          "state": {
            "_dom_classes": [],
            "_model_module": "@jupyter-widgets/controls",
            "_model_module_version": "1.5.0",
            "_model_name": "FloatProgressModel",
            "_view_count": null,
            "_view_module": "@jupyter-widgets/controls",
            "_view_module_version": "1.5.0",
            "_view_name": "ProgressView",
            "bar_style": "success",
            "description": "",
            "description_tooltip": null,
            "layout": "IPY_MODEL_ae4e2e36ae2146f2b675140e67144fa7",
            "max": 1436,
            "min": 0,
            "orientation": "horizontal",
            "style": "IPY_MODEL_4fed993cc1c8422b860fa89f3f2223bf",
            "value": 1436
          }
        },
        "054dcb96e5eb4e63b8900a8986d91aef": {
          "model_module": "@jupyter-widgets/controls",
          "model_module_version": "1.5.0",
          "model_name": "HBoxModel",
          "state": {
            "_dom_classes": [],
            "_model_module": "@jupyter-widgets/controls",
            "_model_module_version": "1.5.0",
            "_model_name": "HBoxModel",
            "_view_count": null,
            "_view_module": "@jupyter-widgets/controls",
            "_view_module_version": "1.5.0",
            "_view_name": "HBoxView",
            "box_style": "",
            "children": [
              "IPY_MODEL_2abc931b66b94471998c74352a0450c9",
              "IPY_MODEL_601cb68a81c04623aba241d912ab34cf",
              "IPY_MODEL_78819370d0d741abad289ceebd26d7ad"
            ],
            "layout": "IPY_MODEL_9b625e5deab9443ca4794120699e8cc4"
          }
        },
        "0998c4aa0d104eb4a955ff75dd20003d": {
          "model_module": "@jupyter-widgets/controls",
          "model_module_version": "1.5.0",
          "model_name": "HTMLModel",
          "state": {
            "_dom_classes": [],
            "_model_module": "@jupyter-widgets/controls",
            "_model_module_version": "1.5.0",
            "_model_name": "HTMLModel",
            "_view_count": null,
            "_view_module": "@jupyter-widgets/controls",
            "_view_module_version": "1.5.0",
            "_view_name": "HTMLView",
            "description": "",
            "description_tooltip": null,
            "layout": "IPY_MODEL_b904089c40d3440086f3ea32c55d9c61",
            "placeholder": "​",
            "style": "IPY_MODEL_79d603afd21741b8b32b08b9cdcb9ce0",
            "value": " 2.12G/2.12G [00:49&lt;00:00, 43.9MB/s]"
          }
        },
        "0c52bce9da904a08aac43b2bc1adb2d0": {
          "model_module": "@jupyter-widgets/base",
          "model_module_version": "1.2.0",
          "model_name": "LayoutModel",
          "state": {
            "_model_module": "@jupyter-widgets/base",
            "_model_module_version": "1.2.0",
            "_model_name": "LayoutModel",
            "_view_count": null,
            "_view_module": "@jupyter-widgets/base",
            "_view_module_version": "1.2.0",
            "_view_name": "LayoutView",
            "align_content": null,
            "align_items": null,
            "align_self": null,
            "border": null,
            "bottom": null,
            "display": null,
            "flex": null,
            "flex_flow": null,
            "grid_area": null,
            "grid_auto_columns": null,
            "grid_auto_flow": null,
            "grid_auto_rows": null,
            "grid_column": null,
            "grid_gap": null,
            "grid_row": null,
            "grid_template_areas": null,
            "grid_template_columns": null,
            "grid_template_rows": null,
            "height": null,
            "justify_content": null,
            "justify_items": null,
            "left": null,
            "margin": null,
            "max_height": null,
            "max_width": null,
            "min_height": null,
            "min_width": null,
            "object_fit": null,
            "object_position": null,
            "order": null,
            "overflow": null,
            "overflow_x": null,
            "overflow_y": null,
            "padding": null,
            "right": null,
            "top": null,
            "visibility": null,
            "width": null
          }
        },
        "207bc93fd7924658aa530e88f0080e6c": {
          "model_module": "@jupyter-widgets/controls",
          "model_module_version": "1.5.0",
          "model_name": "HTMLModel",
          "state": {
            "_dom_classes": [],
            "_model_module": "@jupyter-widgets/controls",
            "_model_module_version": "1.5.0",
            "_model_name": "HTMLModel",
            "_view_count": null,
            "_view_module": "@jupyter-widgets/controls",
            "_view_module_version": "1.5.0",
            "_view_name": "HTMLView",
            "description": "",
            "description_tooltip": null,
            "layout": "IPY_MODEL_ada3e77a47c346c1869abbdb3e184111",
            "placeholder": "​",
            "style": "IPY_MODEL_46d146e98a6347eb8073e25671f9c2c9",
            "value": " 1.31k/1.31k [00:00&lt;00:00, 33.3kB/s]"
          }
        },
        "28cb05b724d84a7e8b057d59db3e6c4a": {
          "model_module": "@jupyter-widgets/controls",
          "model_module_version": "1.5.0",
          "model_name": "HBoxModel",
          "state": {
            "_dom_classes": [],
            "_model_module": "@jupyter-widgets/controls",
            "_model_module_version": "1.5.0",
            "_model_name": "HBoxModel",
            "_view_count": null,
            "_view_module": "@jupyter-widgets/controls",
            "_view_module_version": "1.5.0",
            "_view_name": "HBoxView",
            "box_style": "",
            "children": [
              "IPY_MODEL_91527d4e91cc487381f2a9f845b4f580",
              "IPY_MODEL_83bfde70c8f648bb81862ac5061b5550",
              "IPY_MODEL_0998c4aa0d104eb4a955ff75dd20003d"
            ],
            "layout": "IPY_MODEL_cbd23bb3747b40d1980ef8340591cc8d"
          }
        },
        "2abc931b66b94471998c74352a0450c9": {
          "model_module": "@jupyter-widgets/controls",
          "model_module_version": "1.5.0",
          "model_name": "HTMLModel",
          "state": {
            "_dom_classes": [],
            "_model_module": "@jupyter-widgets/controls",
            "_model_module_version": "1.5.0",
            "_model_name": "HTMLModel",
            "_view_count": null,
            "_view_module": "@jupyter-widgets/controls",
            "_view_module_version": "1.5.0",
            "_view_name": "HTMLView",
            "description": "",
            "description_tooltip": null,
            "layout": "IPY_MODEL_f52f378157ad46b9a41c18b3cb54d3c5",
            "placeholder": "​",
            "style": "IPY_MODEL_8283b8a519db4edea932d7e47bd2df05",
            "value": "Downloading: 100%"
          }
        },
        "38d474d4054645d491958bd0acdc8b78": {
          "model_module": "@jupyter-widgets/controls",
          "model_module_version": "1.5.0",
          "model_name": "ProgressStyleModel",
          "state": {
            "_model_module": "@jupyter-widgets/controls",
            "_model_module_version": "1.5.0",
            "_model_name": "ProgressStyleModel",
            "_view_count": null,
            "_view_module": "@jupyter-widgets/base",
            "_view_module_version": "1.2.0",
            "_view_name": "StyleView",
            "bar_color": null,
            "description_width": ""
          }
        },
        "3e659217babc4dc38380a364e75009c5": {
          "model_module": "@jupyter-widgets/controls",
          "model_module_version": "1.5.0",
          "model_name": "DescriptionStyleModel",
          "state": {
            "_model_module": "@jupyter-widgets/controls",
            "_model_module_version": "1.5.0",
            "_model_name": "DescriptionStyleModel",
            "_view_count": null,
            "_view_module": "@jupyter-widgets/base",
            "_view_module_version": "1.2.0",
            "_view_name": "StyleView",
            "description_width": ""
          }
        },
        "40ebd203208c437f91d0b708a0611cf8": {
          "model_module": "@jupyter-widgets/base",
          "model_module_version": "1.2.0",
          "model_name": "LayoutModel",
          "state": {
            "_model_module": "@jupyter-widgets/base",
            "_model_module_version": "1.2.0",
            "_model_name": "LayoutModel",
            "_view_count": null,
            "_view_module": "@jupyter-widgets/base",
            "_view_module_version": "1.2.0",
            "_view_name": "LayoutView",
            "align_content": null,
            "align_items": null,
            "align_self": null,
            "border": null,
            "bottom": null,
            "display": null,
            "flex": null,
            "flex_flow": null,
            "grid_area": null,
            "grid_auto_columns": null,
            "grid_auto_flow": null,
            "grid_auto_rows": null,
            "grid_column": null,
            "grid_gap": null,
            "grid_row": null,
            "grid_template_areas": null,
            "grid_template_columns": null,
            "grid_template_rows": null,
            "height": null,
            "justify_content": null,
            "justify_items": null,
            "left": null,
            "margin": null,
            "max_height": null,
            "max_width": null,
            "min_height": null,
            "min_width": null,
            "object_fit": null,
            "object_position": null,
            "order": null,
            "overflow": null,
            "overflow_x": null,
            "overflow_y": null,
            "padding": null,
            "right": null,
            "top": null,
            "visibility": null,
            "width": null
          }
        },
        "46d146e98a6347eb8073e25671f9c2c9": {
          "model_module": "@jupyter-widgets/controls",
          "model_module_version": "1.5.0",
          "model_name": "DescriptionStyleModel",
          "state": {
            "_model_module": "@jupyter-widgets/controls",
            "_model_module_version": "1.5.0",
            "_model_name": "DescriptionStyleModel",
            "_view_count": null,
            "_view_module": "@jupyter-widgets/base",
            "_view_module_version": "1.2.0",
            "_view_name": "StyleView",
            "description_width": ""
          }
        },
        "497c50c95d8448f3b75d24fc574d4eb3": {
          "model_module": "@jupyter-widgets/base",
          "model_module_version": "1.2.0",
          "model_name": "LayoutModel",
          "state": {
            "_model_module": "@jupyter-widgets/base",
            "_model_module_version": "1.2.0",
            "_model_name": "LayoutModel",
            "_view_count": null,
            "_view_module": "@jupyter-widgets/base",
            "_view_module_version": "1.2.0",
            "_view_name": "LayoutView",
            "align_content": null,
            "align_items": null,
            "align_self": null,
            "border": null,
            "bottom": null,
            "display": null,
            "flex": null,
            "flex_flow": null,
            "grid_area": null,
            "grid_auto_columns": null,
            "grid_auto_flow": null,
            "grid_auto_rows": null,
            "grid_column": null,
            "grid_gap": null,
            "grid_row": null,
            "grid_template_areas": null,
            "grid_template_columns": null,
            "grid_template_rows": null,
            "height": null,
            "justify_content": null,
            "justify_items": null,
            "left": null,
            "margin": null,
            "max_height": null,
            "max_width": null,
            "min_height": null,
            "min_width": null,
            "object_fit": null,
            "object_position": null,
            "order": null,
            "overflow": null,
            "overflow_x": null,
            "overflow_y": null,
            "padding": null,
            "right": null,
            "top": null,
            "visibility": null,
            "width": null
          }
        },
        "4fed993cc1c8422b860fa89f3f2223bf": {
          "model_module": "@jupyter-widgets/controls",
          "model_module_version": "1.5.0",
          "model_name": "ProgressStyleModel",
          "state": {
            "_model_module": "@jupyter-widgets/controls",
            "_model_module_version": "1.5.0",
            "_model_name": "ProgressStyleModel",
            "_view_count": null,
            "_view_module": "@jupyter-widgets/base",
            "_view_module_version": "1.2.0",
            "_view_name": "StyleView",
            "bar_color": null,
            "description_width": ""
          }
        },
        "514bea5923054cbf909cce6275481777": {
          "model_module": "@jupyter-widgets/base",
          "model_module_version": "1.2.0",
          "model_name": "LayoutModel",
          "state": {
            "_model_module": "@jupyter-widgets/base",
            "_model_module_version": "1.2.0",
            "_model_name": "LayoutModel",
            "_view_count": null,
            "_view_module": "@jupyter-widgets/base",
            "_view_module_version": "1.2.0",
            "_view_name": "LayoutView",
            "align_content": null,
            "align_items": null,
            "align_self": null,
            "border": null,
            "bottom": null,
            "display": null,
            "flex": null,
            "flex_flow": null,
            "grid_area": null,
            "grid_auto_columns": null,
            "grid_auto_flow": null,
            "grid_auto_rows": null,
            "grid_column": null,
            "grid_gap": null,
            "grid_row": null,
            "grid_template_areas": null,
            "grid_template_columns": null,
            "grid_template_rows": null,
            "height": null,
            "justify_content": null,
            "justify_items": null,
            "left": null,
            "margin": null,
            "max_height": null,
            "max_width": null,
            "min_height": null,
            "min_width": null,
            "object_fit": null,
            "object_position": null,
            "order": null,
            "overflow": null,
            "overflow_x": null,
            "overflow_y": null,
            "padding": null,
            "right": null,
            "top": null,
            "visibility": null,
            "width": null
          }
        },
        "5231c6ef95d340f6b71b363f43a6b361": {
          "model_module": "@jupyter-widgets/controls",
          "model_module_version": "1.5.0",
          "model_name": "ProgressStyleModel",
          "state": {
            "_model_module": "@jupyter-widgets/controls",
            "_model_module_version": "1.5.0",
            "_model_name": "ProgressStyleModel",
            "_view_count": null,
            "_view_module": "@jupyter-widgets/base",
            "_view_module_version": "1.2.0",
            "_view_name": "StyleView",
            "bar_color": null,
            "description_width": ""
          }
        },
        "5e15f6595c9147c9b669e82413c48b4f": {
          "model_module": "@jupyter-widgets/controls",
          "model_module_version": "1.5.0",
          "model_name": "FloatProgressModel",
          "state": {
            "_dom_classes": [],
            "_model_module": "@jupyter-widgets/controls",
            "_model_module_version": "1.5.0",
            "_model_name": "FloatProgressModel",
            "_view_count": null,
            "_view_module": "@jupyter-widgets/controls",
            "_view_module_version": "1.5.0",
            "_view_name": "ProgressView",
            "bar_style": "success",
            "description": "",
            "description_tooltip": null,
            "layout": "IPY_MODEL_9056d6caab734df4834973bac7fc29f2",
            "max": 1274,
            "min": 0,
            "orientation": "horizontal",
            "style": "IPY_MODEL_38d474d4054645d491958bd0acdc8b78",
            "value": 1274
          }
        },
        "601cb68a81c04623aba241d912ab34cf": {
          "model_module": "@jupyter-widgets/controls",
          "model_module_version": "1.5.0",
          "model_name": "FloatProgressModel",
          "state": {
            "_dom_classes": [],
            "_model_module": "@jupyter-widgets/controls",
            "_model_module_version": "1.5.0",
            "_model_name": "FloatProgressModel",
            "_view_count": null,
            "_view_module": "@jupyter-widgets/controls",
            "_view_module_version": "1.5.0",
            "_view_name": "ProgressView",
            "bar_style": "success",
            "description": "",
            "description_tooltip": null,
            "layout": "IPY_MODEL_c27b7b3612e24d7e905889e46bddf4ef",
            "max": 1912529,
            "min": 0,
            "orientation": "horizontal",
            "style": "IPY_MODEL_8611b8794dc24a5a9ae558a460b8f82e",
            "value": 1912529
          }
        },
        "71c11c7c31cb4ce4b478254a0987c437": {
          "model_module": "@jupyter-widgets/base",
          "model_module_version": "1.2.0",
          "model_name": "LayoutModel",
          "state": {
            "_model_module": "@jupyter-widgets/base",
            "_model_module_version": "1.2.0",
            "_model_name": "LayoutModel",
            "_view_count": null,
            "_view_module": "@jupyter-widgets/base",
            "_view_module_version": "1.2.0",
            "_view_name": "LayoutView",
            "align_content": null,
            "align_items": null,
            "align_self": null,
            "border": null,
            "bottom": null,
            "display": null,
            "flex": null,
            "flex_flow": null,
            "grid_area": null,
            "grid_auto_columns": null,
            "grid_auto_flow": null,
            "grid_auto_rows": null,
            "grid_column": null,
            "grid_gap": null,
            "grid_row": null,
            "grid_template_areas": null,
            "grid_template_columns": null,
            "grid_template_rows": null,
            "height": null,
            "justify_content": null,
            "justify_items": null,
            "left": null,
            "margin": null,
            "max_height": null,
            "max_width": null,
            "min_height": null,
            "min_width": null,
            "object_fit": null,
            "object_position": null,
            "order": null,
            "overflow": null,
            "overflow_x": null,
            "overflow_y": null,
            "padding": null,
            "right": null,
            "top": null,
            "visibility": null,
            "width": null
          }
        },
        "76151c04fd9a466384c4d44f871f4ce9": {
          "model_module": "@jupyter-widgets/base",
          "model_module_version": "1.2.0",
          "model_name": "LayoutModel",
          "state": {
            "_model_module": "@jupyter-widgets/base",
            "_model_module_version": "1.2.0",
            "_model_name": "LayoutModel",
            "_view_count": null,
            "_view_module": "@jupyter-widgets/base",
            "_view_module_version": "1.2.0",
            "_view_name": "LayoutView",
            "align_content": null,
            "align_items": null,
            "align_self": null,
            "border": null,
            "bottom": null,
            "display": null,
            "flex": null,
            "flex_flow": null,
            "grid_area": null,
            "grid_auto_columns": null,
            "grid_auto_flow": null,
            "grid_auto_rows": null,
            "grid_column": null,
            "grid_gap": null,
            "grid_row": null,
            "grid_template_areas": null,
            "grid_template_columns": null,
            "grid_template_rows": null,
            "height": null,
            "justify_content": null,
            "justify_items": null,
            "left": null,
            "margin": null,
            "max_height": null,
            "max_width": null,
            "min_height": null,
            "min_width": null,
            "object_fit": null,
            "object_position": null,
            "order": null,
            "overflow": null,
            "overflow_x": null,
            "overflow_y": null,
            "padding": null,
            "right": null,
            "top": null,
            "visibility": null,
            "width": null
          }
        },
        "78819370d0d741abad289ceebd26d7ad": {
          "model_module": "@jupyter-widgets/controls",
          "model_module_version": "1.5.0",
          "model_name": "HTMLModel",
          "state": {
            "_dom_classes": [],
            "_model_module": "@jupyter-widgets/controls",
            "_model_module_version": "1.5.0",
            "_model_name": "HTMLModel",
            "_view_count": null,
            "_view_module": "@jupyter-widgets/controls",
            "_view_module_version": "1.5.0",
            "_view_name": "HTMLView",
            "description": "",
            "description_tooltip": null,
            "layout": "IPY_MODEL_faaa7ffa8e3047c4863f3d3e891a3c46",
            "placeholder": "​",
            "style": "IPY_MODEL_cbca974e849b4fa8b329cc2fb1c17706",
            "value": " 1.82M/1.82M [00:00&lt;00:00, 3.01MB/s]"
          }
        },
        "79d603afd21741b8b32b08b9cdcb9ce0": {
          "model_module": "@jupyter-widgets/controls",
          "model_module_version": "1.5.0",
          "model_name": "DescriptionStyleModel",
          "state": {
            "_model_module": "@jupyter-widgets/controls",
            "_model_module_version": "1.5.0",
            "_model_name": "DescriptionStyleModel",
            "_view_count": null,
            "_view_module": "@jupyter-widgets/base",
            "_view_module_version": "1.2.0",
            "_view_name": "StyleView",
            "description_width": ""
          }
        },
        "8283b8a519db4edea932d7e47bd2df05": {
          "model_module": "@jupyter-widgets/controls",
          "model_module_version": "1.5.0",
          "model_name": "DescriptionStyleModel",
          "state": {
            "_model_module": "@jupyter-widgets/controls",
            "_model_module_version": "1.5.0",
            "_model_name": "DescriptionStyleModel",
            "_view_count": null,
            "_view_module": "@jupyter-widgets/base",
            "_view_module_version": "1.2.0",
            "_view_name": "StyleView",
            "description_width": ""
          }
        },
        "83bfde70c8f648bb81862ac5061b5550": {
          "model_module": "@jupyter-widgets/controls",
          "model_module_version": "1.5.0",
          "model_name": "FloatProgressModel",
          "state": {
            "_dom_classes": [],
            "_model_module": "@jupyter-widgets/controls",
            "_model_module_version": "1.5.0",
            "_model_name": "FloatProgressModel",
            "_view_count": null,
            "_view_module": "@jupyter-widgets/controls",
            "_view_module_version": "1.5.0",
            "_view_name": "ProgressView",
            "bar_style": "success",
            "description": "",
            "description_tooltip": null,
            "layout": "IPY_MODEL_71c11c7c31cb4ce4b478254a0987c437",
            "max": 2275419259,
            "min": 0,
            "orientation": "horizontal",
            "style": "IPY_MODEL_df69b9d78d2d4f8c858ceface8b7dfa0",
            "value": 2275419259
          }
        },
        "84aff6318b8b44369f0ebe21863a8707": {
          "model_module": "@jupyter-widgets/controls",
          "model_module_version": "1.5.0",
          "model_name": "DescriptionStyleModel",
          "state": {
            "_model_module": "@jupyter-widgets/controls",
            "_model_module_version": "1.5.0",
            "_model_name": "DescriptionStyleModel",
            "_view_count": null,
            "_view_module": "@jupyter-widgets/base",
            "_view_module_version": "1.2.0",
            "_view_name": "StyleView",
            "description_width": ""
          }
        },
        "8611b8794dc24a5a9ae558a460b8f82e": {
          "model_module": "@jupyter-widgets/controls",
          "model_module_version": "1.5.0",
          "model_name": "ProgressStyleModel",
          "state": {
            "_model_module": "@jupyter-widgets/controls",
            "_model_module_version": "1.5.0",
            "_model_name": "ProgressStyleModel",
            "_view_count": null,
            "_view_module": "@jupyter-widgets/base",
            "_view_module_version": "1.2.0",
            "_view_name": "StyleView",
            "bar_color": null,
            "description_width": ""
          }
        },
        "8a914245567446fdb7bafa8bfbacf88e": {
          "model_module": "@jupyter-widgets/base",
          "model_module_version": "1.2.0",
          "model_name": "LayoutModel",
          "state": {
            "_model_module": "@jupyter-widgets/base",
            "_model_module_version": "1.2.0",
            "_model_name": "LayoutModel",
            "_view_count": null,
            "_view_module": "@jupyter-widgets/base",
            "_view_module_version": "1.2.0",
            "_view_name": "LayoutView",
            "align_content": null,
            "align_items": null,
            "align_self": null,
            "border": null,
            "bottom": null,
            "display": null,
            "flex": null,
            "flex_flow": null,
            "grid_area": null,
            "grid_auto_columns": null,
            "grid_auto_flow": null,
            "grid_auto_rows": null,
            "grid_column": null,
            "grid_gap": null,
            "grid_row": null,
            "grid_template_areas": null,
            "grid_template_columns": null,
            "grid_template_rows": null,
            "height": null,
            "justify_content": null,
            "justify_items": null,
            "left": null,
            "margin": null,
            "max_height": null,
            "max_width": null,
            "min_height": null,
            "min_width": null,
            "object_fit": null,
            "object_position": null,
            "order": null,
            "overflow": null,
            "overflow_x": null,
            "overflow_y": null,
            "padding": null,
            "right": null,
            "top": null,
            "visibility": null,
            "width": null
          }
        },
        "8d597c14d47242f2aec311fcabac88e6": {
          "model_module": "@jupyter-widgets/base",
          "model_module_version": "1.2.0",
          "model_name": "LayoutModel",
          "state": {
            "_model_module": "@jupyter-widgets/base",
            "_model_module_version": "1.2.0",
            "_model_name": "LayoutModel",
            "_view_count": null,
            "_view_module": "@jupyter-widgets/base",
            "_view_module_version": "1.2.0",
            "_view_name": "LayoutView",
            "align_content": null,
            "align_items": null,
            "align_self": null,
            "border": null,
            "bottom": null,
            "display": null,
            "flex": null,
            "flex_flow": null,
            "grid_area": null,
            "grid_auto_columns": null,
            "grid_auto_flow": null,
            "grid_auto_rows": null,
            "grid_column": null,
            "grid_gap": null,
            "grid_row": null,
            "grid_template_areas": null,
            "grid_template_columns": null,
            "grid_template_rows": null,
            "height": null,
            "justify_content": null,
            "justify_items": null,
            "left": null,
            "margin": null,
            "max_height": null,
            "max_width": null,
            "min_height": null,
            "min_width": null,
            "object_fit": null,
            "object_position": null,
            "order": null,
            "overflow": null,
            "overflow_x": null,
            "overflow_y": null,
            "padding": null,
            "right": null,
            "top": null,
            "visibility": null,
            "width": null
          }
        },
        "9056d6caab734df4834973bac7fc29f2": {
          "model_module": "@jupyter-widgets/base",
          "model_module_version": "1.2.0",
          "model_name": "LayoutModel",
          "state": {
            "_model_module": "@jupyter-widgets/base",
            "_model_module_version": "1.2.0",
            "_model_name": "LayoutModel",
            "_view_count": null,
            "_view_module": "@jupyter-widgets/base",
            "_view_module_version": "1.2.0",
            "_view_name": "LayoutView",
            "align_content": null,
            "align_items": null,
            "align_self": null,
            "border": null,
            "bottom": null,
            "display": null,
            "flex": null,
            "flex_flow": null,
            "grid_area": null,
            "grid_auto_columns": null,
            "grid_auto_flow": null,
            "grid_auto_rows": null,
            "grid_column": null,
            "grid_gap": null,
            "grid_row": null,
            "grid_template_areas": null,
            "grid_template_columns": null,
            "grid_template_rows": null,
            "height": null,
            "justify_content": null,
            "justify_items": null,
            "left": null,
            "margin": null,
            "max_height": null,
            "max_width": null,
            "min_height": null,
            "min_width": null,
            "object_fit": null,
            "object_position": null,
            "order": null,
            "overflow": null,
            "overflow_x": null,
            "overflow_y": null,
            "padding": null,
            "right": null,
            "top": null,
            "visibility": null,
            "width": null
          }
        },
        "91527d4e91cc487381f2a9f845b4f580": {
          "model_module": "@jupyter-widgets/controls",
          "model_module_version": "1.5.0",
          "model_name": "HTMLModel",
          "state": {
            "_dom_classes": [],
            "_model_module": "@jupyter-widgets/controls",
            "_model_module_version": "1.5.0",
            "_model_name": "HTMLModel",
            "_view_count": null,
            "_view_module": "@jupyter-widgets/controls",
            "_view_module_version": "1.5.0",
            "_view_name": "HTMLView",
            "description": "",
            "description_tooltip": null,
            "layout": "IPY_MODEL_514bea5923054cbf909cce6275481777",
            "placeholder": "​",
            "style": "IPY_MODEL_84aff6318b8b44369f0ebe21863a8707",
            "value": "Downloading: 100%"
          }
        },
        "9b625e5deab9443ca4794120699e8cc4": {
          "model_module": "@jupyter-widgets/base",
          "model_module_version": "1.2.0",
          "model_name": "LayoutModel",
          "state": {
            "_model_module": "@jupyter-widgets/base",
            "_model_module_version": "1.2.0",
            "_model_name": "LayoutModel",
            "_view_count": null,
            "_view_module": "@jupyter-widgets/base",
            "_view_module_version": "1.2.0",
            "_view_name": "LayoutView",
            "align_content": null,
            "align_items": null,
            "align_self": null,
            "border": null,
            "bottom": null,
            "display": null,
            "flex": null,
            "flex_flow": null,
            "grid_area": null,
            "grid_auto_columns": null,
            "grid_auto_flow": null,
            "grid_auto_rows": null,
            "grid_column": null,
            "grid_gap": null,
            "grid_row": null,
            "grid_template_areas": null,
            "grid_template_columns": null,
            "grid_template_rows": null,
            "height": null,
            "justify_content": null,
            "justify_items": null,
            "left": null,
            "margin": null,
            "max_height": null,
            "max_width": null,
            "min_height": null,
            "min_width": null,
            "object_fit": null,
            "object_position": null,
            "order": null,
            "overflow": null,
            "overflow_x": null,
            "overflow_y": null,
            "padding": null,
            "right": null,
            "top": null,
            "visibility": null,
            "width": null
          }
        },
        "9baa8501f2d8404694d4f44971b959fa": {
          "model_module": "@jupyter-widgets/controls",
          "model_module_version": "1.5.0",
          "model_name": "HBoxModel",
          "state": {
            "_dom_classes": [],
            "_model_module": "@jupyter-widgets/controls",
            "_model_module_version": "1.5.0",
            "_model_name": "HBoxModel",
            "_view_count": null,
            "_view_module": "@jupyter-widgets/controls",
            "_view_module_version": "1.5.0",
            "_view_name": "HBoxView",
            "box_style": "",
            "children": [
              "IPY_MODEL_e2d87dadc96d4253984abb841bab8657",
              "IPY_MODEL_053b2eb47dd0493d8b699e4aff1885a4",
              "IPY_MODEL_a1215701e0de4333a3e9de31533fd32c"
            ],
            "layout": "IPY_MODEL_d05648606ed3467399bf886177ae2f92"
          }
        },
        "9d5ccc92e5f544abb14785ae26d73353": {
          "model_module": "@jupyter-widgets/controls",
          "model_module_version": "1.5.0",
          "model_name": "HTMLModel",
          "state": {
            "_dom_classes": [],
            "_model_module": "@jupyter-widgets/controls",
            "_model_module_version": "1.5.0",
            "_model_name": "HTMLModel",
            "_view_count": null,
            "_view_module": "@jupyter-widgets/controls",
            "_view_module_version": "1.5.0",
            "_view_name": "HTMLView",
            "description": "",
            "description_tooltip": null,
            "layout": "IPY_MODEL_497c50c95d8448f3b75d24fc574d4eb3",
            "placeholder": "​",
            "style": "IPY_MODEL_3e659217babc4dc38380a364e75009c5",
            "value": "Downloading: 100%"
          }
        },
        "a1215701e0de4333a3e9de31533fd32c": {
          "model_module": "@jupyter-widgets/controls",
          "model_module_version": "1.5.0",
          "model_name": "HTMLModel",
          "state": {
            "_dom_classes": [],
            "_model_module": "@jupyter-widgets/controls",
            "_model_module_version": "1.5.0",
            "_model_name": "HTMLModel",
            "_view_count": null,
            "_view_module": "@jupyter-widgets/controls",
            "_view_module_version": "1.5.0",
            "_view_name": "HTMLView",
            "description": "",
            "description_tooltip": null,
            "layout": "IPY_MODEL_8a914245567446fdb7bafa8bfbacf88e",
            "placeholder": "​",
            "style": "IPY_MODEL_f1e228a5e9064075ad22ec005c4404a6",
            "value": " 1.40k/1.40k [00:00&lt;00:00, 30.3kB/s]"
          }
        },
        "a4c01912423a478faf3b7805b3e3c394": {
          "model_module": "@jupyter-widgets/controls",
          "model_module_version": "1.5.0",
          "model_name": "DescriptionStyleModel",
          "state": {
            "_model_module": "@jupyter-widgets/controls",
            "_model_module_version": "1.5.0",
            "_model_name": "DescriptionStyleModel",
            "_view_count": null,
            "_view_module": "@jupyter-widgets/base",
            "_view_module_version": "1.2.0",
            "_view_name": "StyleView",
            "description_width": ""
          }
        },
        "acdd068a23d349e6afbff673a745d772": {
          "model_module": "@jupyter-widgets/controls",
          "model_module_version": "1.5.0",
          "model_name": "HBoxModel",
          "state": {
            "_dom_classes": [],
            "_model_module": "@jupyter-widgets/controls",
            "_model_module_version": "1.5.0",
            "_model_name": "HBoxModel",
            "_view_count": null,
            "_view_module": "@jupyter-widgets/controls",
            "_view_module_version": "1.5.0",
            "_view_name": "HBoxView",
            "box_style": "",
            "children": [
              "IPY_MODEL_d00fe18c83794242b57254a80fd721fd",
              "IPY_MODEL_e6e8d14202014e77a0ba9c1159c719d0",
              "IPY_MODEL_207bc93fd7924658aa530e88f0080e6c"
            ],
            "layout": "IPY_MODEL_76151c04fd9a466384c4d44f871f4ce9"
          }
        },
        "ada3e77a47c346c1869abbdb3e184111": {
          "model_module": "@jupyter-widgets/base",
          "model_module_version": "1.2.0",
          "model_name": "LayoutModel",
          "state": {
            "_model_module": "@jupyter-widgets/base",
            "_model_module_version": "1.2.0",
            "_model_name": "LayoutModel",
            "_view_count": null,
            "_view_module": "@jupyter-widgets/base",
            "_view_module_version": "1.2.0",
            "_view_name": "LayoutView",
            "align_content": null,
            "align_items": null,
            "align_self": null,
            "border": null,
            "bottom": null,
            "display": null,
            "flex": null,
            "flex_flow": null,
            "grid_area": null,
            "grid_auto_columns": null,
            "grid_auto_flow": null,
            "grid_auto_rows": null,
            "grid_column": null,
            "grid_gap": null,
            "grid_row": null,
            "grid_template_areas": null,
            "grid_template_columns": null,
            "grid_template_rows": null,
            "height": null,
            "justify_content": null,
            "justify_items": null,
            "left": null,
            "margin": null,
            "max_height": null,
            "max_width": null,
            "min_height": null,
            "min_width": null,
            "object_fit": null,
            "object_position": null,
            "order": null,
            "overflow": null,
            "overflow_x": null,
            "overflow_y": null,
            "padding": null,
            "right": null,
            "top": null,
            "visibility": null,
            "width": null
          }
        },
        "ae4e2e36ae2146f2b675140e67144fa7": {
          "model_module": "@jupyter-widgets/base",
          "model_module_version": "1.2.0",
          "model_name": "LayoutModel",
          "state": {
            "_model_module": "@jupyter-widgets/base",
            "_model_module_version": "1.2.0",
            "_model_name": "LayoutModel",
            "_view_count": null,
            "_view_module": "@jupyter-widgets/base",
            "_view_module_version": "1.2.0",
            "_view_name": "LayoutView",
            "align_content": null,
            "align_items": null,
            "align_self": null,
            "border": null,
            "bottom": null,
            "display": null,
            "flex": null,
            "flex_flow": null,
            "grid_area": null,
            "grid_auto_columns": null,
            "grid_auto_flow": null,
            "grid_auto_rows": null,
            "grid_column": null,
            "grid_gap": null,
            "grid_row": null,
            "grid_template_areas": null,
            "grid_template_columns": null,
            "grid_template_rows": null,
            "height": null,
            "justify_content": null,
            "justify_items": null,
            "left": null,
            "margin": null,
            "max_height": null,
            "max_width": null,
            "min_height": null,
            "min_width": null,
            "object_fit": null,
            "object_position": null,
            "order": null,
            "overflow": null,
            "overflow_x": null,
            "overflow_y": null,
            "padding": null,
            "right": null,
            "top": null,
            "visibility": null,
            "width": null
          }
        },
        "afb470380e3a48a3a285a6681d8a27cd": {
          "model_module": "@jupyter-widgets/controls",
          "model_module_version": "1.5.0",
          "model_name": "DescriptionStyleModel",
          "state": {
            "_model_module": "@jupyter-widgets/controls",
            "_model_module_version": "1.5.0",
            "_model_name": "DescriptionStyleModel",
            "_view_count": null,
            "_view_module": "@jupyter-widgets/base",
            "_view_module_version": "1.2.0",
            "_view_name": "StyleView",
            "description_width": ""
          }
        },
        "b904089c40d3440086f3ea32c55d9c61": {
          "model_module": "@jupyter-widgets/base",
          "model_module_version": "1.2.0",
          "model_name": "LayoutModel",
          "state": {
            "_model_module": "@jupyter-widgets/base",
            "_model_module_version": "1.2.0",
            "_model_name": "LayoutModel",
            "_view_count": null,
            "_view_module": "@jupyter-widgets/base",
            "_view_module_version": "1.2.0",
            "_view_name": "LayoutView",
            "align_content": null,
            "align_items": null,
            "align_self": null,
            "border": null,
            "bottom": null,
            "display": null,
            "flex": null,
            "flex_flow": null,
            "grid_area": null,
            "grid_auto_columns": null,
            "grid_auto_flow": null,
            "grid_auto_rows": null,
            "grid_column": null,
            "grid_gap": null,
            "grid_row": null,
            "grid_template_areas": null,
            "grid_template_columns": null,
            "grid_template_rows": null,
            "height": null,
            "justify_content": null,
            "justify_items": null,
            "left": null,
            "margin": null,
            "max_height": null,
            "max_width": null,
            "min_height": null,
            "min_width": null,
            "object_fit": null,
            "object_position": null,
            "order": null,
            "overflow": null,
            "overflow_x": null,
            "overflow_y": null,
            "padding": null,
            "right": null,
            "top": null,
            "visibility": null,
            "width": null
          }
        },
        "c10077474af541a1bd35bd4c0bcc146b": {
          "model_module": "@jupyter-widgets/controls",
          "model_module_version": "1.5.0",
          "model_name": "DescriptionStyleModel",
          "state": {
            "_model_module": "@jupyter-widgets/controls",
            "_model_module_version": "1.5.0",
            "_model_name": "DescriptionStyleModel",
            "_view_count": null,
            "_view_module": "@jupyter-widgets/base",
            "_view_module_version": "1.2.0",
            "_view_name": "StyleView",
            "description_width": ""
          }
        },
        "c27b7b3612e24d7e905889e46bddf4ef": {
          "model_module": "@jupyter-widgets/base",
          "model_module_version": "1.2.0",
          "model_name": "LayoutModel",
          "state": {
            "_model_module": "@jupyter-widgets/base",
            "_model_module_version": "1.2.0",
            "_model_name": "LayoutModel",
            "_view_count": null,
            "_view_module": "@jupyter-widgets/base",
            "_view_module_version": "1.2.0",
            "_view_name": "LayoutView",
            "align_content": null,
            "align_items": null,
            "align_self": null,
            "border": null,
            "bottom": null,
            "display": null,
            "flex": null,
            "flex_flow": null,
            "grid_area": null,
            "grid_auto_columns": null,
            "grid_auto_flow": null,
            "grid_auto_rows": null,
            "grid_column": null,
            "grid_gap": null,
            "grid_row": null,
            "grid_template_areas": null,
            "grid_template_columns": null,
            "grid_template_rows": null,
            "height": null,
            "justify_content": null,
            "justify_items": null,
            "left": null,
            "margin": null,
            "max_height": null,
            "max_width": null,
            "min_height": null,
            "min_width": null,
            "object_fit": null,
            "object_position": null,
            "order": null,
            "overflow": null,
            "overflow_x": null,
            "overflow_y": null,
            "padding": null,
            "right": null,
            "top": null,
            "visibility": null,
            "width": null
          }
        },
        "ca27f92562804ea4ad9b051ec69cf633": {
          "model_module": "@jupyter-widgets/base",
          "model_module_version": "1.2.0",
          "model_name": "LayoutModel",
          "state": {
            "_model_module": "@jupyter-widgets/base",
            "_model_module_version": "1.2.0",
            "_model_name": "LayoutModel",
            "_view_count": null,
            "_view_module": "@jupyter-widgets/base",
            "_view_module_version": "1.2.0",
            "_view_name": "LayoutView",
            "align_content": null,
            "align_items": null,
            "align_self": null,
            "border": null,
            "bottom": null,
            "display": null,
            "flex": null,
            "flex_flow": null,
            "grid_area": null,
            "grid_auto_columns": null,
            "grid_auto_flow": null,
            "grid_auto_rows": null,
            "grid_column": null,
            "grid_gap": null,
            "grid_row": null,
            "grid_template_areas": null,
            "grid_template_columns": null,
            "grid_template_rows": null,
            "height": null,
            "justify_content": null,
            "justify_items": null,
            "left": null,
            "margin": null,
            "max_height": null,
            "max_width": null,
            "min_height": null,
            "min_width": null,
            "object_fit": null,
            "object_position": null,
            "order": null,
            "overflow": null,
            "overflow_x": null,
            "overflow_y": null,
            "padding": null,
            "right": null,
            "top": null,
            "visibility": null,
            "width": null
          }
        },
        "ca5fa3ea4da64ca3939f7eca21c9baab": {
          "model_module": "@jupyter-widgets/controls",
          "model_module_version": "1.5.0",
          "model_name": "HBoxModel",
          "state": {
            "_dom_classes": [],
            "_model_module": "@jupyter-widgets/controls",
            "_model_module_version": "1.5.0",
            "_model_name": "HBoxModel",
            "_view_count": null,
            "_view_module": "@jupyter-widgets/controls",
            "_view_module_version": "1.5.0",
            "_view_name": "HBoxView",
            "box_style": "",
            "children": [
              "IPY_MODEL_9d5ccc92e5f544abb14785ae26d73353",
              "IPY_MODEL_5e15f6595c9147c9b669e82413c48b4f",
              "IPY_MODEL_f7895ac953bb4efca43f8c53019e074f"
            ],
            "layout": "IPY_MODEL_0c52bce9da904a08aac43b2bc1adb2d0"
          }
        },
        "cbca974e849b4fa8b329cc2fb1c17706": {
          "model_module": "@jupyter-widgets/controls",
          "model_module_version": "1.5.0",
          "model_name": "DescriptionStyleModel",
          "state": {
            "_model_module": "@jupyter-widgets/controls",
            "_model_module_version": "1.5.0",
            "_model_name": "DescriptionStyleModel",
            "_view_count": null,
            "_view_module": "@jupyter-widgets/base",
            "_view_module_version": "1.2.0",
            "_view_name": "StyleView",
            "description_width": ""
          }
        },
        "cbd23bb3747b40d1980ef8340591cc8d": {
          "model_module": "@jupyter-widgets/base",
          "model_module_version": "1.2.0",
          "model_name": "LayoutModel",
          "state": {
            "_model_module": "@jupyter-widgets/base",
            "_model_module_version": "1.2.0",
            "_model_name": "LayoutModel",
            "_view_count": null,
            "_view_module": "@jupyter-widgets/base",
            "_view_module_version": "1.2.0",
            "_view_name": "LayoutView",
            "align_content": null,
            "align_items": null,
            "align_self": null,
            "border": null,
            "bottom": null,
            "display": null,
            "flex": null,
            "flex_flow": null,
            "grid_area": null,
            "grid_auto_columns": null,
            "grid_auto_flow": null,
            "grid_auto_rows": null,
            "grid_column": null,
            "grid_gap": null,
            "grid_row": null,
            "grid_template_areas": null,
            "grid_template_columns": null,
            "grid_template_rows": null,
            "height": null,
            "justify_content": null,
            "justify_items": null,
            "left": null,
            "margin": null,
            "max_height": null,
            "max_width": null,
            "min_height": null,
            "min_width": null,
            "object_fit": null,
            "object_position": null,
            "order": null,
            "overflow": null,
            "overflow_x": null,
            "overflow_y": null,
            "padding": null,
            "right": null,
            "top": null,
            "visibility": null,
            "width": null
          }
        },
        "d00fe18c83794242b57254a80fd721fd": {
          "model_module": "@jupyter-widgets/controls",
          "model_module_version": "1.5.0",
          "model_name": "HTMLModel",
          "state": {
            "_dom_classes": [],
            "_model_module": "@jupyter-widgets/controls",
            "_model_module_version": "1.5.0",
            "_model_name": "HTMLModel",
            "_view_count": null,
            "_view_module": "@jupyter-widgets/controls",
            "_view_module_version": "1.5.0",
            "_view_name": "HTMLView",
            "description": "",
            "description_tooltip": null,
            "layout": "IPY_MODEL_ca27f92562804ea4ad9b051ec69cf633",
            "placeholder": "​",
            "style": "IPY_MODEL_c10077474af541a1bd35bd4c0bcc146b",
            "value": "Downloading: 100%"
          }
        },
        "d05648606ed3467399bf886177ae2f92": {
          "model_module": "@jupyter-widgets/base",
          "model_module_version": "1.2.0",
          "model_name": "LayoutModel",
          "state": {
            "_model_module": "@jupyter-widgets/base",
            "_model_module_version": "1.2.0",
            "_model_name": "LayoutModel",
            "_view_count": null,
            "_view_module": "@jupyter-widgets/base",
            "_view_module_version": "1.2.0",
            "_view_name": "LayoutView",
            "align_content": null,
            "align_items": null,
            "align_self": null,
            "border": null,
            "bottom": null,
            "display": null,
            "flex": null,
            "flex_flow": null,
            "grid_area": null,
            "grid_auto_columns": null,
            "grid_auto_flow": null,
            "grid_auto_rows": null,
            "grid_column": null,
            "grid_gap": null,
            "grid_row": null,
            "grid_template_areas": null,
            "grid_template_columns": null,
            "grid_template_rows": null,
            "height": null,
            "justify_content": null,
            "justify_items": null,
            "left": null,
            "margin": null,
            "max_height": null,
            "max_width": null,
            "min_height": null,
            "min_width": null,
            "object_fit": null,
            "object_position": null,
            "order": null,
            "overflow": null,
            "overflow_x": null,
            "overflow_y": null,
            "padding": null,
            "right": null,
            "top": null,
            "visibility": null,
            "width": null
          }
        },
        "d93560ca4dc74255a4e9f71a0cf31735": {
          "model_module": "@jupyter-widgets/base",
          "model_module_version": "1.2.0",
          "model_name": "LayoutModel",
          "state": {
            "_model_module": "@jupyter-widgets/base",
            "_model_module_version": "1.2.0",
            "_model_name": "LayoutModel",
            "_view_count": null,
            "_view_module": "@jupyter-widgets/base",
            "_view_module_version": "1.2.0",
            "_view_name": "LayoutView",
            "align_content": null,
            "align_items": null,
            "align_self": null,
            "border": null,
            "bottom": null,
            "display": null,
            "flex": null,
            "flex_flow": null,
            "grid_area": null,
            "grid_auto_columns": null,
            "grid_auto_flow": null,
            "grid_auto_rows": null,
            "grid_column": null,
            "grid_gap": null,
            "grid_row": null,
            "grid_template_areas": null,
            "grid_template_columns": null,
            "grid_template_rows": null,
            "height": null,
            "justify_content": null,
            "justify_items": null,
            "left": null,
            "margin": null,
            "max_height": null,
            "max_width": null,
            "min_height": null,
            "min_width": null,
            "object_fit": null,
            "object_position": null,
            "order": null,
            "overflow": null,
            "overflow_x": null,
            "overflow_y": null,
            "padding": null,
            "right": null,
            "top": null,
            "visibility": null,
            "width": null
          }
        },
        "df69b9d78d2d4f8c858ceface8b7dfa0": {
          "model_module": "@jupyter-widgets/controls",
          "model_module_version": "1.5.0",
          "model_name": "ProgressStyleModel",
          "state": {
            "_model_module": "@jupyter-widgets/controls",
            "_model_module_version": "1.5.0",
            "_model_name": "ProgressStyleModel",
            "_view_count": null,
            "_view_module": "@jupyter-widgets/base",
            "_view_module_version": "1.2.0",
            "_view_name": "StyleView",
            "bar_color": null,
            "description_width": ""
          }
        },
        "e2d87dadc96d4253984abb841bab8657": {
          "model_module": "@jupyter-widgets/controls",
          "model_module_version": "1.5.0",
          "model_name": "HTMLModel",
          "state": {
            "_dom_classes": [],
            "_model_module": "@jupyter-widgets/controls",
            "_model_module_version": "1.5.0",
            "_model_name": "HTMLModel",
            "_view_count": null,
            "_view_module": "@jupyter-widgets/controls",
            "_view_module_version": "1.5.0",
            "_view_name": "HTMLView",
            "description": "",
            "description_tooltip": null,
            "layout": "IPY_MODEL_8d597c14d47242f2aec311fcabac88e6",
            "placeholder": "​",
            "style": "IPY_MODEL_afb470380e3a48a3a285a6681d8a27cd",
            "value": "Downloading: 100%"
          }
        },
        "e6e8d14202014e77a0ba9c1159c719d0": {
          "model_module": "@jupyter-widgets/controls",
          "model_module_version": "1.5.0",
          "model_name": "FloatProgressModel",
          "state": {
            "_dom_classes": [],
            "_model_module": "@jupyter-widgets/controls",
            "_model_module_version": "1.5.0",
            "_model_name": "FloatProgressModel",
            "_view_count": null,
            "_view_module": "@jupyter-widgets/controls",
            "_view_module_version": "1.5.0",
            "_view_name": "ProgressView",
            "bar_style": "success",
            "description": "",
            "description_tooltip": null,
            "layout": "IPY_MODEL_40ebd203208c437f91d0b708a0611cf8",
            "max": 1341,
            "min": 0,
            "orientation": "horizontal",
            "style": "IPY_MODEL_5231c6ef95d340f6b71b363f43a6b361",
            "value": 1341
          }
        },
        "f1e228a5e9064075ad22ec005c4404a6": {
          "model_module": "@jupyter-widgets/controls",
          "model_module_version": "1.5.0",
          "model_name": "DescriptionStyleModel",
          "state": {
            "_model_module": "@jupyter-widgets/controls",
            "_model_module_version": "1.5.0",
            "_model_name": "DescriptionStyleModel",
            "_view_count": null,
            "_view_module": "@jupyter-widgets/base",
            "_view_module_version": "1.2.0",
            "_view_name": "StyleView",
            "description_width": ""
          }
        },
        "f52f378157ad46b9a41c18b3cb54d3c5": {
          "model_module": "@jupyter-widgets/base",
          "model_module_version": "1.2.0",
          "model_name": "LayoutModel",
          "state": {
            "_model_module": "@jupyter-widgets/base",
            "_model_module_version": "1.2.0",
            "_model_name": "LayoutModel",
            "_view_count": null,
            "_view_module": "@jupyter-widgets/base",
            "_view_module_version": "1.2.0",
            "_view_name": "LayoutView",
            "align_content": null,
            "align_items": null,
            "align_self": null,
            "border": null,
            "bottom": null,
            "display": null,
            "flex": null,
            "flex_flow": null,
            "grid_area": null,
            "grid_auto_columns": null,
            "grid_auto_flow": null,
            "grid_auto_rows": null,
            "grid_column": null,
            "grid_gap": null,
            "grid_row": null,
            "grid_template_areas": null,
            "grid_template_columns": null,
            "grid_template_rows": null,
            "height": null,
            "justify_content": null,
            "justify_items": null,
            "left": null,
            "margin": null,
            "max_height": null,
            "max_width": null,
            "min_height": null,
            "min_width": null,
            "object_fit": null,
            "object_position": null,
            "order": null,
            "overflow": null,
            "overflow_x": null,
            "overflow_y": null,
            "padding": null,
            "right": null,
            "top": null,
            "visibility": null,
            "width": null
          }
        },
        "f7895ac953bb4efca43f8c53019e074f": {
          "model_module": "@jupyter-widgets/controls",
          "model_module_version": "1.5.0",
          "model_name": "HTMLModel",
          "state": {
            "_dom_classes": [],
            "_model_module": "@jupyter-widgets/controls",
            "_model_module_version": "1.5.0",
            "_model_name": "HTMLModel",
            "_view_count": null,
            "_view_module": "@jupyter-widgets/controls",
            "_view_module_version": "1.5.0",
            "_view_name": "HTMLView",
            "description": "",
            "description_tooltip": null,
            "layout": "IPY_MODEL_d93560ca4dc74255a4e9f71a0cf31735",
            "placeholder": "​",
            "style": "IPY_MODEL_a4c01912423a478faf3b7805b3e3c394",
            "value": " 1.24k/1.24k [00:00&lt;00:00, 29.5kB/s]"
          }
        },
        "faaa7ffa8e3047c4863f3d3e891a3c46": {
          "model_module": "@jupyter-widgets/base",
          "model_module_version": "1.2.0",
          "model_name": "LayoutModel",
          "state": {
            "_model_module": "@jupyter-widgets/base",
            "_model_module_version": "1.2.0",
            "_model_name": "LayoutModel",
            "_view_count": null,
            "_view_module": "@jupyter-widgets/base",
            "_view_module_version": "1.2.0",
            "_view_name": "LayoutView",
            "align_content": null,
            "align_items": null,
            "align_self": null,
            "border": null,
            "bottom": null,
            "display": null,
            "flex": null,
            "flex_flow": null,
            "grid_area": null,
            "grid_auto_columns": null,
            "grid_auto_flow": null,
            "grid_auto_rows": null,
            "grid_column": null,
            "grid_gap": null,
            "grid_row": null,
            "grid_template_areas": null,
            "grid_template_columns": null,
            "grid_template_rows": null,
            "height": null,
            "justify_content": null,
            "justify_items": null,
            "left": null,
            "margin": null,
            "max_height": null,
            "max_width": null,
            "min_height": null,
            "min_width": null,
            "object_fit": null,
            "object_position": null,
            "order": null,
            "overflow": null,
            "overflow_x": null,
            "overflow_y": null,
            "padding": null,
            "right": null,
            "top": null,
            "visibility": null,
            "width": null
          }
        }
      }
    }
  },
  "nbformat": 4,
  "nbformat_minor": 0
}
